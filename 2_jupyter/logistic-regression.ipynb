{
 "cells": [
  {
   "cell_type": "code",
   "execution_count": 5,
   "metadata": {},
   "outputs": [],
   "source": [
    "from pyspark.sql import SparkSession\n",
    "from pyspark.sql.functions import *\n",
    "from pyspark.sql.window import Window\n",
    "from pyspark.sql.types import *\n",
    "spark = SparkSession.builder \\\n",
    "    .config('spark.driver.memory', '3g') \\\n",
    "    .enableHiveSupport().getOrCreate()"
   ]
  },
  {
   "cell_type": "code",
   "execution_count": 6,
   "metadata": {},
   "outputs": [
    {
     "name": "stdout",
     "output_type": "stream",
     "text": [
      "Badges\tComments  PostLinks  Posts  Tags  Users  Votes\r\n"
     ]
    }
   ],
   "source": [
    "! ls /data"
   ]
  },
  {
   "cell_type": "code",
   "execution_count": 9,
   "metadata": {},
   "outputs": [],
   "source": [
    "base_path = 'file:///data'"
   ]
  },
  {
   "cell_type": "code",
   "execution_count": 12,
   "metadata": {},
   "outputs": [],
   "source": [
    "posts = spark.read.format('parquet').load(f'{base_path}/Posts')"
   ]
  },
  {
   "cell_type": "code",
   "execution_count": 13,
   "metadata": {},
   "outputs": [
    {
     "data": {
      "text/plain": [
       "45919817"
      ]
     },
     "execution_count": 13,
     "metadata": {},
     "output_type": "execute_result"
    }
   ],
   "source": [
    "posts.count()"
   ]
  },
  {
   "cell_type": "code",
   "execution_count": 14,
   "metadata": {},
   "outputs": [
    {
     "name": "stdout",
     "output_type": "stream",
     "text": [
      "root\n",
      " |-- Id: integer (nullable = true)\n",
      " |-- ParentId: integer (nullable = true)\n",
      " |-- PostTypeId: integer (nullable = true)\n",
      " |-- CreationDate: timestamp (nullable = true)\n",
      " |-- Score: integer (nullable = true)\n",
      " |-- ViewCount: integer (nullable = true)\n",
      " |-- Body: string (nullable = true)\n",
      " |-- OwnerUserId: integer (nullable = true)\n",
      " |-- LastActivityDate: timestamp (nullable = true)\n",
      " |-- Title: string (nullable = true)\n",
      " |-- Tags: array (nullable = true)\n",
      " |    |-- element: string (containsNull = true)\n",
      " |-- CommentCount: integer (nullable = true)\n",
      " |-- AnswerCount: integer (nullable = true)\n",
      " |-- LastEditDate: timestamp (nullable = true)\n",
      " |-- LastEditorUserId: integer (nullable = true)\n",
      " |-- AcceptedAnswerId: integer (nullable = true)\n",
      " |-- FavoriteCount: integer (nullable = true)\n",
      " |-- OwnerDisplayName: string (nullable = true)\n",
      " |-- ClosedDate: timestamp (nullable = true)\n",
      " |-- LastEditorDisplayName: string (nullable = true)\n",
      " |-- CommunityOwnedDate: timestamp (nullable = true)\n",
      "\n"
     ]
    }
   ],
   "source": [
    "posts.printSchema()"
   ]
  },
  {
   "cell_type": "code",
   "execution_count": 15,
   "metadata": {},
   "outputs": [
    {
     "name": "stdout",
     "output_type": "stream",
     "text": [
      "+----------+--------+\n",
      "|PostTypeId|   count|\n",
      "+----------+--------+\n",
      "|         1|18154493|\n",
      "|         6|     324|\n",
      "|         3|     167|\n",
      "|         5|   49909|\n",
      "|         4|   49909|\n",
      "|         8|       2|\n",
      "|         7|       4|\n",
      "|         2|27665009|\n",
      "+----------+--------+\n",
      "\n"
     ]
    }
   ],
   "source": [
    "posts.groupBy('PostTypeId').count().show()"
   ]
  },
  {
   "cell_type": "code",
   "execution_count": 16,
   "metadata": {},
   "outputs": [],
   "source": [
    "QUESTION_POST_TYPE = 1\n",
    "questions = posts.where(col('PostTypeId') == QUESTION_POST_TYPE)"
   ]
  },
  {
   "cell_type": "code",
   "execution_count": 18,
   "metadata": {},
   "outputs": [
    {
     "name": "stdout",
     "output_type": "stream",
     "text": [
      "root\n",
      " |-- Id: integer (nullable = true)\n",
      " |-- ParentId: integer (nullable = true)\n",
      " |-- PostTypeId: integer (nullable = true)\n",
      " |-- CreationDate: timestamp (nullable = true)\n",
      " |-- Score: integer (nullable = true)\n",
      " |-- ViewCount: integer (nullable = true)\n",
      " |-- Body: string (nullable = true)\n",
      " |-- OwnerUserId: integer (nullable = true)\n",
      " |-- LastActivityDate: timestamp (nullable = true)\n",
      " |-- Title: string (nullable = true)\n",
      " |-- Tags: array (nullable = true)\n",
      " |    |-- element: string (containsNull = true)\n",
      " |-- CommentCount: integer (nullable = true)\n",
      " |-- AnswerCount: integer (nullable = true)\n",
      " |-- LastEditDate: timestamp (nullable = true)\n",
      " |-- LastEditorUserId: integer (nullable = true)\n",
      " |-- AcceptedAnswerId: integer (nullable = true)\n",
      " |-- FavoriteCount: integer (nullable = true)\n",
      " |-- OwnerDisplayName: string (nullable = true)\n",
      " |-- ClosedDate: timestamp (nullable = true)\n",
      " |-- LastEditorDisplayName: string (nullable = true)\n",
      " |-- CommunityOwnedDate: timestamp (nullable = true)\n",
      "\n"
     ]
    }
   ],
   "source": [
    "questions.printSchema()"
   ]
  },
  {
   "cell_type": "markdown",
   "metadata": {},
   "source": [
    "### 1. Czy pytanie może być community-owned? (`CommunityOwnedDate`)"
   ]
  },
  {
   "cell_type": "code",
   "execution_count": 20,
   "metadata": {},
   "outputs": [
    {
     "data": {
      "text/plain": [
       "Row(Id=839899)"
      ]
     },
     "execution_count": 20,
     "metadata": {},
     "output_type": "execute_result"
    }
   ],
   "source": [
    "questions.where(col('CommunityOwnedDate').isNotNull()).select('Id').first()"
   ]
  },
  {
   "cell_type": "markdown",
   "metadata": {},
   "source": [
    "### 2. Przykładowy ID zamkniętego pytania z września 2019 (`ClosedDate`)\n",
    "\n",
    "https://stackoverflow.com/q/839899"
   ]
  },
  {
   "cell_type": "code",
   "execution_count": 22,
   "metadata": {},
   "outputs": [
    {
     "name": "stdout",
     "output_type": "stream",
     "text": [
      "+--------+\n",
      "|      Id|\n",
      "+--------+\n",
      "|  206258|\n",
      "| 2279993|\n",
      "|23043938|\n",
      "|53167196|\n",
      "|57614714|\n",
      "|57649465|\n",
      "|57689162|\n",
      "|57029989|\n",
      "|57576987|\n",
      "|47334139|\n",
      "|40689858|\n",
      "|57722308|\n",
      "|57726456|\n",
      "|57727515|\n",
      "|57728075|\n",
      "|57730003|\n",
      "|57733132|\n",
      "|57734725|\n",
      "|57734751|\n",
      "|57736739|\n",
      "+--------+\n",
      "only showing top 20 rows\n",
      "\n"
     ]
    }
   ],
   "source": [
    "questions.where(year('ClosedDate') == 2019) \\\n",
    "    .where(month('ClosedDate') == 9).select('Id').show()"
   ]
  },
  {
   "cell_type": "code",
   "execution_count": null,
   "metadata": {},
   "outputs": [],
   "source": []
  }
 ],
 "metadata": {
  "kernelspec": {
   "display_name": "Python 3",
   "language": "python",
   "name": "python3"
  },
  "language_info": {
   "codemirror_mode": {
    "name": "ipython",
    "version": 3
   },
   "file_extension": ".py",
   "mimetype": "text/x-python",
   "name": "python",
   "nbconvert_exporter": "python",
   "pygments_lexer": "ipython3",
   "version": "3.7.3"
  }
 },
 "nbformat": 4,
 "nbformat_minor": 2
}
