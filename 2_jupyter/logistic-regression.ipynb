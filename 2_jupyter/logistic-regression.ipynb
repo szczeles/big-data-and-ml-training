{
 "cells": [
  {
   "cell_type": "code",
   "execution_count": 1,
   "metadata": {},
   "outputs": [],
   "source": [
    "from pyspark.sql import SparkSession\n",
    "from pyspark.sql.functions import *\n",
    "from pyspark.sql.window import Window\n",
    "from pyspark.sql.types import *\n",
    "spark = SparkSession.builder \\\n",
    "    .config('spark.driver.memory', '3g') \\\n",
    "    .enableHiveSupport().getOrCreate()"
   ]
  },
  {
   "cell_type": "code",
   "execution_count": 2,
   "metadata": {},
   "outputs": [
    {
     "name": "stdout",
     "output_type": "stream",
     "text": [
      "Badges\tComments  PostLinks  Posts  Tags  Users  Votes\r\n"
     ]
    }
   ],
   "source": [
    "! ls /data"
   ]
  },
  {
   "cell_type": "code",
   "execution_count": 3,
   "metadata": {},
   "outputs": [],
   "source": [
    "base_path = 'file:///data'"
   ]
  },
  {
   "cell_type": "code",
   "execution_count": 4,
   "metadata": {},
   "outputs": [],
   "source": [
    "posts = spark.read.format('parquet').load(f'{base_path}/Posts')"
   ]
  },
  {
   "cell_type": "code",
   "execution_count": 5,
   "metadata": {},
   "outputs": [
    {
     "data": {
      "text/plain": [
       "45919817"
      ]
     },
     "execution_count": 5,
     "metadata": {},
     "output_type": "execute_result"
    }
   ],
   "source": [
    "posts.count()"
   ]
  },
  {
   "cell_type": "code",
   "execution_count": 6,
   "metadata": {},
   "outputs": [
    {
     "name": "stdout",
     "output_type": "stream",
     "text": [
      "root\n",
      " |-- Id: integer (nullable = true)\n",
      " |-- ParentId: integer (nullable = true)\n",
      " |-- PostTypeId: integer (nullable = true)\n",
      " |-- CreationDate: timestamp (nullable = true)\n",
      " |-- Score: integer (nullable = true)\n",
      " |-- ViewCount: integer (nullable = true)\n",
      " |-- Body: string (nullable = true)\n",
      " |-- OwnerUserId: integer (nullable = true)\n",
      " |-- LastActivityDate: timestamp (nullable = true)\n",
      " |-- Title: string (nullable = true)\n",
      " |-- Tags: array (nullable = true)\n",
      " |    |-- element: string (containsNull = true)\n",
      " |-- CommentCount: integer (nullable = true)\n",
      " |-- AnswerCount: integer (nullable = true)\n",
      " |-- LastEditDate: timestamp (nullable = true)\n",
      " |-- LastEditorUserId: integer (nullable = true)\n",
      " |-- AcceptedAnswerId: integer (nullable = true)\n",
      " |-- FavoriteCount: integer (nullable = true)\n",
      " |-- OwnerDisplayName: string (nullable = true)\n",
      " |-- ClosedDate: timestamp (nullable = true)\n",
      " |-- LastEditorDisplayName: string (nullable = true)\n",
      " |-- CommunityOwnedDate: timestamp (nullable = true)\n",
      "\n"
     ]
    }
   ],
   "source": [
    "posts.printSchema()"
   ]
  },
  {
   "cell_type": "code",
   "execution_count": 7,
   "metadata": {},
   "outputs": [
    {
     "name": "stdout",
     "output_type": "stream",
     "text": [
      "+----------+--------+\n",
      "|PostTypeId|   count|\n",
      "+----------+--------+\n",
      "|         1|18154493|\n",
      "|         6|     324|\n",
      "|         3|     167|\n",
      "|         5|   49909|\n",
      "|         4|   49909|\n",
      "|         8|       2|\n",
      "|         7|       4|\n",
      "|         2|27665009|\n",
      "+----------+--------+\n",
      "\n"
     ]
    }
   ],
   "source": [
    "posts.groupBy('PostTypeId').count().show()"
   ]
  },
  {
   "cell_type": "code",
   "execution_count": 8,
   "metadata": {},
   "outputs": [],
   "source": [
    "QUESTION_POST_TYPE = 1\n",
    "questions = posts.where(col('PostTypeId') == QUESTION_POST_TYPE)"
   ]
  },
  {
   "cell_type": "code",
   "execution_count": 9,
   "metadata": {},
   "outputs": [
    {
     "name": "stdout",
     "output_type": "stream",
     "text": [
      "root\n",
      " |-- Id: integer (nullable = true)\n",
      " |-- ParentId: integer (nullable = true)\n",
      " |-- PostTypeId: integer (nullable = true)\n",
      " |-- CreationDate: timestamp (nullable = true)\n",
      " |-- Score: integer (nullable = true)\n",
      " |-- ViewCount: integer (nullable = true)\n",
      " |-- Body: string (nullable = true)\n",
      " |-- OwnerUserId: integer (nullable = true)\n",
      " |-- LastActivityDate: timestamp (nullable = true)\n",
      " |-- Title: string (nullable = true)\n",
      " |-- Tags: array (nullable = true)\n",
      " |    |-- element: string (containsNull = true)\n",
      " |-- CommentCount: integer (nullable = true)\n",
      " |-- AnswerCount: integer (nullable = true)\n",
      " |-- LastEditDate: timestamp (nullable = true)\n",
      " |-- LastEditorUserId: integer (nullable = true)\n",
      " |-- AcceptedAnswerId: integer (nullable = true)\n",
      " |-- FavoriteCount: integer (nullable = true)\n",
      " |-- OwnerDisplayName: string (nullable = true)\n",
      " |-- ClosedDate: timestamp (nullable = true)\n",
      " |-- LastEditorDisplayName: string (nullable = true)\n",
      " |-- CommunityOwnedDate: timestamp (nullable = true)\n",
      "\n"
     ]
    }
   ],
   "source": [
    "questions.printSchema()"
   ]
  },
  {
   "cell_type": "markdown",
   "metadata": {},
   "source": [
    "### 1. Czy pytanie może być community-owned? (`CommunityOwnedDate`)"
   ]
  },
  {
   "cell_type": "code",
   "execution_count": 10,
   "metadata": {},
   "outputs": [
    {
     "data": {
      "text/plain": [
       "Row(Id=839899)"
      ]
     },
     "execution_count": 10,
     "metadata": {},
     "output_type": "execute_result"
    }
   ],
   "source": [
    "questions.where(col('CommunityOwnedDate').isNotNull()).select('Id').first()"
   ]
  },
  {
   "cell_type": "markdown",
   "metadata": {},
   "source": [
    "### 2. Przykładowy ID zamkniętego pytania z września 2019 (`ClosedDate`)\n",
    "\n",
    "https://stackoverflow.com/q/839899"
   ]
  },
  {
   "cell_type": "code",
   "execution_count": 11,
   "metadata": {},
   "outputs": [
    {
     "name": "stdout",
     "output_type": "stream",
     "text": [
      "+--------+\n",
      "|      Id|\n",
      "+--------+\n",
      "|  206258|\n",
      "| 2279993|\n",
      "|23043938|\n",
      "|53167196|\n",
      "|57614714|\n",
      "|57649465|\n",
      "|57689162|\n",
      "|57029989|\n",
      "|57576987|\n",
      "|47334139|\n",
      "|40689858|\n",
      "|57722308|\n",
      "|57726456|\n",
      "|57727515|\n",
      "|57728075|\n",
      "|57730003|\n",
      "|57733132|\n",
      "|57734725|\n",
      "|57734751|\n",
      "|57736739|\n",
      "+--------+\n",
      "only showing top 20 rows\n",
      "\n"
     ]
    }
   ],
   "source": [
    "questions.where(year('ClosedDate') == 2019) \\\n",
    "    .where(month('ClosedDate') == 9).select('Id').show()"
   ]
  },
  {
   "cell_type": "code",
   "execution_count": 12,
   "metadata": {},
   "outputs": [],
   "source": [
    "\n",
    "# mało badży (do tego czasu)\n",
    "# za krótkie pytanie -> mniej niż 100 znaków\n",
    "# długość pytania\n",
    "# długość tytułu\n",
    "# wiek\n",
    "# autor dopiero zarejestrowany (+1)\n",
    "# niski view count\n",
    "# tytuł kończy się znakiem zapytania\n",
    "# tytuł krótszy niż 5 znaków\n",
    "# CAPS lock w tytule\n",
    "# dużo znaków interpunkcyjnych w tytule\n",
    "# obecność obrazków\n",
    "# \"internet\"\n",
    "# \"please\"\n",
    "# title zaczyna się wielką literą\n",
    "# title zaczyna się od \"how\", \"what\" albo \"why\"\n",
    "# godzina\n",
    "# czy weekend?\n",
    "# ile postów usera zostało zamkniętych (do tego czasu)\n",
    "# ile pytań zadał dotąd\n",
    "# ma \"defaultowy\" nick?\n",
    "# wpisana lokacja?\n",
    "# owner user id jest pusty?"
   ]
  },
  {
   "cell_type": "markdown",
   "metadata": {},
   "source": [
    "## Cechy na początek:\n",
    "\n",
    " * ocena na minusie (+1)\n",
    " * obecność kodu (+1)\n",
    " * autor dopiero zarejestrowany (+1)\n",
    " * czy 0 tagów?\n",
    " * czy 1 tag?\n",
    " * czy >1 tag?"
   ]
  },
  {
   "cell_type": "markdown",
   "metadata": {},
   "source": [
    "```\n",
    "this is my code\n",
    "``` \n",
    "\n",
    "\n",
    "-> <pre><code>\n",
    "\n",
    "\n",
    "this is `my` code\n",
    "\n",
    "--> <code>"
   ]
  },
  {
   "cell_type": "code",
   "execution_count": 13,
   "metadata": {},
   "outputs": [
    {
     "name": "stdout",
     "output_type": "stream",
     "text": [
      "+------+--------+----------+--------------------+-----+---------+--------------------+-----------+--------------------+--------------------+--------------------+------------+-----------+--------------------+----------------+----------------+-------------+----------------+----------+---------------------+--------------------+\n",
      "|    Id|ParentId|PostTypeId|        CreationDate|Score|ViewCount|                Body|OwnerUserId|    LastActivityDate|               Title|                Tags|CommentCount|AnswerCount|        LastEditDate|LastEditorUserId|AcceptedAnswerId|FavoriteCount|OwnerDisplayName|ClosedDate|LastEditorDisplayName|  CommunityOwnedDate|\n",
      "+------+--------+----------+--------------------+-----+---------+--------------------+-----------+--------------------+--------------------+--------------------+------------+-----------+--------------------+----------------+----------------+-------------+----------------+----------+---------------------+--------------------+\n",
      "|839854|    null|         1|2009-05-08 13:44:...|    3|     2278|<p>i want to filt...|      88555|2009-05-11 07:15:...|Solr faceting que...|              [solr]|           1|          1|2009-05-11 06:40:...|           88555|          847043|            0|            null|      null|                 null|                null|\n",
      "|839856|    null|         1|2009-05-08 13:45:...|   13|    13732|<p>How can I deny...|     103521|2012-11-27 14:56:...|Using std:fstream...|               [c++]|           2|          3|                null|            null|          839897|            3|            null|      null|                 null|                null|\n",
      "|839861|    null|         1|2009-05-08 13:46:...|    2|     2652|<p>I don't claim ...|      28543|2016-04-28 12:25:...|svn externals not...|[svn, svn-externals]|           1|          5|2012-10-11 09:36:...|          309086|          840434|         null|            null|      null|                 null|                null|\n",
      "|839866|    null|         1|2009-05-08 13:48:...|   13|    28658|<p>I have some WC...|       null|2014-04-30 08:58:...|What exactly is C...|[wcf, windows-ser...|           0|          4|                null|            null|            null|            5|            null|      null|                 null|                null|\n",
      "|839873|    null|         1|2009-05-08 13:50:...|    1|     1563|<p>Is it possible...|      61344|2014-09-23 12:28:...|Configuration fil...|[c#, .net, config...|           0|          2|                null|            null|          839892|         null|            null|      null|                 null|                null|\n",
      "|839874|    null|         1|2009-05-08 13:51:...|    0|     1948|<p>what is the be...|      97526|2009-05-11 07:14:...|what is the best ...|        [.net, json]|           3|          4|2009-05-10 05:42:...|           97526|            null|         null|            null|      null|                 null|                null|\n",
      "|839875|    null|         1|2009-05-08 13:52:...|    7|     8747|<p>Is there anoth...|      38498|2009-07-24 10:25:...|Timer in Silverlight|[.net, asp.net, s...|           0|          2|                null|            null|          839928|            1|            null|      null|                 null|                null|\n",
      "|839888|    null|         1|2009-05-08 13:55:...|   58|    50124|<p>When requestin...|         36|2017-06-12 21:08:...|HttpWebRequest & ...|[c#, .net, stream...|           2|          6|2009-05-11 20:41:...|              36|            null|           20|            null|      null|                 null|                null|\n",
      "|839893|    null|         1|2009-05-08 13:55:...|    8|    19727|<p>I am using a R...|      39666|2013-09-04 22:15:...|How to populate t...|[java, jsf, richf...|           0|          5|2009-05-08 18:33:...|           39666|          841372|            4|            null|      null|                 null|                null|\n",
      "|839898|    null|         1|2009-05-08 13:57:...|    0|     1922|<p>I have been as...|      90272|2009-09-23 15:25:...|Stacking Controls...|[c#, controls, tr...|           0|          2|2009-05-11 13:30:...|           90272|         1466723|         null|            null|      null|                 null|                null|\n",
      "|839899|    null|         1|2009-05-08 13:57:...|  210|   257876|<p>How can the fo...|     101258|2019-06-09 15:58:...|How do I calculat...|[algorithm, math,...|           0|          3|2019-04-14 02:33:...|         5550963|          839931|           84|            null|      null|                 null|2009-12-25 13:08:...|\n",
      "|839903|    null|         1|2009-05-08 13:57:...|    4|    12453|<p>I'm having a b...|      29042|2009-05-08 14:18:...|C# StructLayout/F...|[c#, arrays, inde...|           1|          2|2017-05-23 12:01:...|              -1|          839936|         null|            null|      null|                 null|                null|\n",
      "|839912|    null|         1|2009-05-08 13:59:...|    0|       89|<p>We are in the ...|     100964|2009-05-08 14:23:...|Strategies/Tools ...|       [sql, oracle]|           0|          1|2009-05-08 14:23:...|          100964|          839934|            0|            null|      null|                 null|                null|\n",
      "|839915|    null|         1|2009-05-08 13:59:...|    2|     1304|<p>I've always wo...|      41654|2009-05-11 19:19:...|Ordering a MySQL ...|[mysql, sql-order...|           0|          2|2009-05-11 19:19:...|           41654|          839967|            1|            null|      null|                 null|                null|\n",
      "|839938|    null|         1|2009-05-08 14:04:...|   19|    39927|<p>I have a gener...|     103532|2018-07-02 15:59:...|MySQL/SQL: Update...|[mysql, sql, sql-...|           0|          3|2018-07-02 15:59:...|         9070959|          844637|           12|            null|      null|                 null|                null|\n",
      "|839942|    null|         1|2009-05-08 14:05:...|    3|     2294|<p>I just did som...|      98516|2009-05-12 18:37:...|Is it possible to...|         [svn, undo]|           0|          3|2017-05-23 10:27:...|              -1|          839960|            0|            null|      null|                 null|                null|\n",
      "|839945|    null|         1|2009-05-08 14:06:...|    0|     1301|<p>I have a WinFo...|      25457|2010-09-03 09:47:...|How to keep windo...|[wpf, windows, wi...|           0|          1|2009-05-08 14:58:...|           25457|            null|         null|            null|      null|                 null|                null|\n",
      "|839957|    null|         1|2009-05-08 14:10:...|    6|     4050|<p>I want to sepa...|       null|2019-05-21 03:02:...|Any suggestions f...|[delphi, user-int...|           0|          7|                null|            null|            null|            6|       codervish|      null|                 null|                null|\n",
      "|839958|    null|         1|2009-05-08 14:10:...|   29|    35553|<p>I have a class...|     103560|2013-07-07 15:29:...|Custom Iterator i...|[c++, stl, iterator]|           4|          6|2013-07-07 15:29:...|           41071|          840055|           19|            null|      null|                 null|                null|\n",
      "|839963|    null|         1|2009-05-08 14:11:...|    1|      843|<p>I am an ASP.Ne...|     103557|2009-05-08 14:15:...|ASP.Net MVC Check...|       [asp.net-mvc]|           0|          1|                null|            null|          839981|            0|            null|      null|                 null|                null|\n",
      "+------+--------+----------+--------------------+-----+---------+--------------------+-----------+--------------------+--------------------+--------------------+------------+-----------+--------------------+----------------+----------------+-------------+----------------+----------+---------------------+--------------------+\n",
      "only showing top 20 rows\n",
      "\n"
     ]
    }
   ],
   "source": [
    "questions \\\n",
    "    .show()"
   ]
  },
  {
   "cell_type": "code",
   "execution_count": 14,
   "metadata": {},
   "outputs": [],
   "source": [
    "import re\n",
    "def how_many_code_letters(body):\n",
    "    if body == None:\n",
    "        return 0 ## or None?\n",
    "    letters = 0\n",
    "    for code in re.finditer('<code>([^<]+)</code>', body):\n",
    "        letters += len(code.group(1))\n",
    "    return letters"
   ]
  },
  {
   "cell_type": "code",
   "execution_count": 15,
   "metadata": {},
   "outputs": [],
   "source": [
    "assert how_many_code_letters('<code>abc</code> <code>1</code>') == 4\n",
    "assert how_many_code_letters('<pre><code>abc</code></pre> <code>1</code>') == 4\n",
    "assert how_many_code_letters('''\n",
    "<pre><code>line1\n",
    "line2</code></pre> <code>1</code>\n",
    "''') == 12"
   ]
  },
  {
   "cell_type": "code",
   "execution_count": 16,
   "metadata": {},
   "outputs": [],
   "source": [
    "how_many_code_letters_udf = udf(how_many_code_letters, IntegerType())"
   ]
  },
  {
   "cell_type": "code",
   "execution_count": 17,
   "metadata": {},
   "outputs": [],
   "source": [
    "users = spark.read.parquet(f'{base_path}/Users')\n",
    "# users.printSchema()"
   ]
  },
  {
   "cell_type": "code",
   "execution_count": 18,
   "metadata": {},
   "outputs": [],
   "source": [
    "days_difference_between_reg_and_post = datediff(questions.CreationDate, users.CreationDate)\n",
    "input_df = questions.join(users, questions.OwnerUserId == users.Id) \\\n",
    "    .select(\n",
    "        questions.Id,\n",
    "        (col('Score')<0).alias('is_score_less_than_zero'),\n",
    "        'Score',\n",
    "        col('Body').contains('<code>').alias('has_code_attached'),\n",
    "        how_many_code_letters_udf('Body').alias('code_length'),\n",
    "        (days_difference_between_reg_and_post < 2).alias('is_author_just_registered'),\n",
    "        days_difference_between_reg_and_post.alias('how_many_days_ago_user_registered'),\n",
    "        col('ClosedDate').isNotNull().alias('is_closed'),\n",
    "        (size('Tags') == 1).alias('has_one_tag'),\n",
    "        (size('Tags') == 2).alias('has_two_tags'),\n",
    "        (size('Tags') >= 3).alias('has_more_than_two_tags'),\n",
    "    )"
   ]
  },
  {
   "cell_type": "markdown",
   "metadata": {},
   "source": [
    "## Przydatne funkcje\n",
    "\n",
    " * `unix_timestamp`\n",
    " * `regexp_extract`"
   ]
  },
  {
   "cell_type": "code",
   "execution_count": 19,
   "metadata": {},
   "outputs": [
    {
     "name": "stdout",
     "output_type": "stream",
     "text": [
      "root\n",
      " |-- Id: integer (nullable = true)\n",
      " |-- is_score_less_than_zero: boolean (nullable = true)\n",
      " |-- Score: integer (nullable = true)\n",
      " |-- has_code_attached: boolean (nullable = true)\n",
      " |-- code_length: integer (nullable = true)\n",
      " |-- is_author_just_registered: boolean (nullable = true)\n",
      " |-- how_many_days_ago_user_registered: integer (nullable = true)\n",
      " |-- is_closed: boolean (nullable = false)\n",
      " |-- has_one_tag: boolean (nullable = false)\n",
      " |-- has_two_tags: boolean (nullable = false)\n",
      " |-- has_more_than_two_tags: boolean (nullable = false)\n",
      "\n"
     ]
    }
   ],
   "source": [
    "input_df.printSchema()"
   ]
  },
  {
   "cell_type": "markdown",
   "metadata": {},
   "source": [
    "## MLLib\n",
    "\n",
    "* `label` -> liczba\n",
    "* `features` -> tablica liczb"
   ]
  },
  {
   "cell_type": "code",
   "execution_count": 20,
   "metadata": {},
   "outputs": [],
   "source": [
    "from pyspark.ml.feature import VectorAssembler"
   ]
  },
  {
   "cell_type": "code",
   "execution_count": 21,
   "metadata": {},
   "outputs": [
    {
     "data": {
      "text/plain": [
       "'\\n\\n'"
      ]
     },
     "execution_count": 21,
     "metadata": {},
     "output_type": "execute_result"
    }
   ],
   "source": [
    "'''\n",
    "\n",
    "'''"
   ]
  },
  {
   "cell_type": "code",
   "execution_count": 22,
   "metadata": {},
   "outputs": [],
   "source": [
    "assembler = VectorAssembler(inputCols=[\n",
    "    'is_score_less_than_zero',\n",
    "    'Score',\n",
    "    'has_code_attached',\n",
    "    'code_length',\n",
    "    'is_author_just_registered',\n",
    "    'how_many_days_ago_user_registered',\n",
    "    'has_one_tag',\n",
    "    'has_two_tags',\n",
    "    'has_more_than_two_tags',\n",
    "], outputCol=\"features\")\n",
    "\n",
    "model_input_df = assembler.transform(input_df) \\\n",
    "    .withColumn('is_closed', col('is_closed').cast('int'))"
   ]
  },
  {
   "cell_type": "code",
   "execution_count": null,
   "metadata": {},
   "outputs": [],
   "source": [
    "from pyspark.ml.classification import LogisticRegression, LogisticRegressionModel\n",
    "\n",
    "lr = LogisticRegression(labelCol=\"is_closed\")\n",
    "my_first_model = lr.fit(model_input_df)"
   ]
  },
  {
   "cell_type": "code",
   "execution_count": null,
   "metadata": {},
   "outputs": [],
   "source": [
    "my_first_model.interceptVector"
   ]
  },
  {
   "cell_type": "code",
   "execution_count": null,
   "metadata": {},
   "outputs": [],
   "source": [
    "my_first_model.coefficientMatrix"
   ]
  },
  {
   "cell_type": "code",
   "execution_count": null,
   "metadata": {},
   "outputs": [],
   "source": [
    "summary = my_first_model.summary\n",
    "print(summary.areaUnderROC)"
   ]
  },
  {
   "cell_type": "code",
   "execution_count": null,
   "metadata": {},
   "outputs": [],
   "source": [
    "print(summary.accuracy)"
   ]
  },
  {
   "cell_type": "code",
   "execution_count": null,
   "metadata": {},
   "outputs": [],
   "source": [
    "summary.precisionByLabel"
   ]
  },
  {
   "cell_type": "code",
   "execution_count": null,
   "metadata": {},
   "outputs": [],
   "source": [
    "summary.recallByLabel"
   ]
  },
  {
   "cell_type": "code",
   "execution_count": null,
   "metadata": {},
   "outputs": [],
   "source": [
    "%matplotlib inline"
   ]
  },
  {
   "cell_type": "code",
   "execution_count": null,
   "metadata": {},
   "outputs": [],
   "source": [
    "import matplotlib.pyplot as plt\n",
    "plt.figure(figsize=(5, 5))\n",
    "plt.plot([0, 1], [0, 1], 'r--')\n",
    "plt.plot(\n",
    "    summary.roc.select('FPR').collect(), \n",
    "    summary.roc.select('TPR').collect())\n",
    "plt.show()"
   ]
  },
  {
   "cell_type": "markdown",
   "metadata": {},
   "source": [
    "* persystencja\n",
    "* test/train\n",
    "* cross-walidacja"
   ]
  },
  {
   "cell_type": "code",
   "execution_count": null,
   "metadata": {},
   "outputs": [],
   "source": [
    "my_first_model.save('/models/lr_v1')"
   ]
  },
  {
   "cell_type": "code",
   "execution_count": null,
   "metadata": {},
   "outputs": [],
   "source": [
    "loaded_model = LogisticRegressionModel.load('/models/lr_v1')\n",
    "loaded_model.coefficientMatrix"
   ]
  },
  {
   "cell_type": "code",
   "execution_count": null,
   "metadata": {},
   "outputs": [],
   "source": [
    "loaded_model.transform(model_input_df).first()"
   ]
  },
  {
   "cell_type": "code",
   "execution_count": null,
   "metadata": {},
   "outputs": [],
   "source": [
    "(train, test) = model_input_df.randomSplit([0.7, 0.3], seed=42)"
   ]
  },
  {
   "cell_type": "code",
   "execution_count": null,
   "metadata": {},
   "outputs": [],
   "source": [
    "train.count()"
   ]
  },
  {
   "cell_type": "code",
   "execution_count": null,
   "metadata": {},
   "outputs": [],
   "source": [
    "test.count()"
   ]
  },
  {
   "cell_type": "code",
   "execution_count": null,
   "metadata": {},
   "outputs": [],
   "source": []
  }
 ],
 "metadata": {
  "kernelspec": {
   "display_name": "Python 3",
   "language": "python",
   "name": "python3"
  },
  "language_info": {
   "codemirror_mode": {
    "name": "ipython",
    "version": 3
   },
   "file_extension": ".py",
   "mimetype": "text/x-python",
   "name": "python",
   "nbconvert_exporter": "python",
   "pygments_lexer": "ipython3",
   "version": "3.7.3"
  }
 },
 "nbformat": 4,
 "nbformat_minor": 2
}
