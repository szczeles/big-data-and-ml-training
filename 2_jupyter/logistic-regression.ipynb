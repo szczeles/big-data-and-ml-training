{
 "cells": [
  {
   "cell_type": "code",
   "execution_count": 5,
   "metadata": {},
   "outputs": [],
   "source": [
    "from pyspark.sql import SparkSession\n",
    "from pyspark.sql.functions import *\n",
    "from pyspark.sql.window import Window\n",
    "from pyspark.sql.types import *\n",
    "spark = SparkSession.builder \\\n",
    "    .config('spark.driver.memory', '3g') \\\n",
    "    .enableHiveSupport().getOrCreate()"
   ]
  },
  {
   "cell_type": "code",
   "execution_count": 6,
   "metadata": {},
   "outputs": [
    {
     "name": "stdout",
     "output_type": "stream",
     "text": [
      "Badges\tComments  PostLinks  Posts  Tags  Users  Votes\r\n"
     ]
    }
   ],
   "source": [
    "! ls /data"
   ]
  },
  {
   "cell_type": "code",
   "execution_count": 9,
   "metadata": {},
   "outputs": [],
   "source": [
    "base_path = 'file:///data'"
   ]
  },
  {
   "cell_type": "code",
   "execution_count": 33,
   "metadata": {},
   "outputs": [],
   "source": [
    "posts = spark.read.format('parquet').load(f'{base_path}/Posts/part-00500*')"
   ]
  },
  {
   "cell_type": "code",
   "execution_count": 34,
   "metadata": {},
   "outputs": [
    {
     "data": {
      "text/plain": [
       "71561"
      ]
     },
     "execution_count": 34,
     "metadata": {},
     "output_type": "execute_result"
    }
   ],
   "source": [
    "posts.count()"
   ]
  },
  {
   "cell_type": "code",
   "execution_count": 14,
   "metadata": {},
   "outputs": [
    {
     "name": "stdout",
     "output_type": "stream",
     "text": [
      "root\n",
      " |-- Id: integer (nullable = true)\n",
      " |-- ParentId: integer (nullable = true)\n",
      " |-- PostTypeId: integer (nullable = true)\n",
      " |-- CreationDate: timestamp (nullable = true)\n",
      " |-- Score: integer (nullable = true)\n",
      " |-- ViewCount: integer (nullable = true)\n",
      " |-- Body: string (nullable = true)\n",
      " |-- OwnerUserId: integer (nullable = true)\n",
      " |-- LastActivityDate: timestamp (nullable = true)\n",
      " |-- Title: string (nullable = true)\n",
      " |-- Tags: array (nullable = true)\n",
      " |    |-- element: string (containsNull = true)\n",
      " |-- CommentCount: integer (nullable = true)\n",
      " |-- AnswerCount: integer (nullable = true)\n",
      " |-- LastEditDate: timestamp (nullable = true)\n",
      " |-- LastEditorUserId: integer (nullable = true)\n",
      " |-- AcceptedAnswerId: integer (nullable = true)\n",
      " |-- FavoriteCount: integer (nullable = true)\n",
      " |-- OwnerDisplayName: string (nullable = true)\n",
      " |-- ClosedDate: timestamp (nullable = true)\n",
      " |-- LastEditorDisplayName: string (nullable = true)\n",
      " |-- CommunityOwnedDate: timestamp (nullable = true)\n",
      "\n"
     ]
    }
   ],
   "source": [
    "posts.printSchema()"
   ]
  },
  {
   "cell_type": "code",
   "execution_count": 15,
   "metadata": {},
   "outputs": [
    {
     "name": "stdout",
     "output_type": "stream",
     "text": [
      "+----------+--------+\n",
      "|PostTypeId|   count|\n",
      "+----------+--------+\n",
      "|         1|18154493|\n",
      "|         6|     324|\n",
      "|         3|     167|\n",
      "|         5|   49909|\n",
      "|         4|   49909|\n",
      "|         8|       2|\n",
      "|         7|       4|\n",
      "|         2|27665009|\n",
      "+----------+--------+\n",
      "\n"
     ]
    }
   ],
   "source": [
    "posts.groupBy('PostTypeId').count().show()"
   ]
  },
  {
   "cell_type": "code",
   "execution_count": 16,
   "metadata": {},
   "outputs": [],
   "source": [
    "QUESTION_POST_TYPE = 1\n",
    "questions = posts.where(col('PostTypeId') == QUESTION_POST_TYPE)"
   ]
  },
  {
   "cell_type": "code",
   "execution_count": 18,
   "metadata": {},
   "outputs": [
    {
     "name": "stdout",
     "output_type": "stream",
     "text": [
      "root\n",
      " |-- Id: integer (nullable = true)\n",
      " |-- ParentId: integer (nullable = true)\n",
      " |-- PostTypeId: integer (nullable = true)\n",
      " |-- CreationDate: timestamp (nullable = true)\n",
      " |-- Score: integer (nullable = true)\n",
      " |-- ViewCount: integer (nullable = true)\n",
      " |-- Body: string (nullable = true)\n",
      " |-- OwnerUserId: integer (nullable = true)\n",
      " |-- LastActivityDate: timestamp (nullable = true)\n",
      " |-- Title: string (nullable = true)\n",
      " |-- Tags: array (nullable = true)\n",
      " |    |-- element: string (containsNull = true)\n",
      " |-- CommentCount: integer (nullable = true)\n",
      " |-- AnswerCount: integer (nullable = true)\n",
      " |-- LastEditDate: timestamp (nullable = true)\n",
      " |-- LastEditorUserId: integer (nullable = true)\n",
      " |-- AcceptedAnswerId: integer (nullable = true)\n",
      " |-- FavoriteCount: integer (nullable = true)\n",
      " |-- OwnerDisplayName: string (nullable = true)\n",
      " |-- ClosedDate: timestamp (nullable = true)\n",
      " |-- LastEditorDisplayName: string (nullable = true)\n",
      " |-- CommunityOwnedDate: timestamp (nullable = true)\n",
      "\n"
     ]
    }
   ],
   "source": [
    "questions.printSchema()"
   ]
  },
  {
   "cell_type": "markdown",
   "metadata": {},
   "source": [
    "### 1. Czy pytanie może być community-owned? (`CommunityOwnedDate`)"
   ]
  },
  {
   "cell_type": "code",
   "execution_count": 20,
   "metadata": {},
   "outputs": [
    {
     "data": {
      "text/plain": [
       "Row(Id=839899)"
      ]
     },
     "execution_count": 20,
     "metadata": {},
     "output_type": "execute_result"
    }
   ],
   "source": [
    "questions.where(col('CommunityOwnedDate').isNotNull()).select('Id').first()"
   ]
  },
  {
   "cell_type": "markdown",
   "metadata": {},
   "source": [
    "### 2. Przykładowy ID zamkniętego pytania z września 2019 (`ClosedDate`)\n",
    "\n",
    "https://stackoverflow.com/q/839899"
   ]
  },
  {
   "cell_type": "code",
   "execution_count": 22,
   "metadata": {},
   "outputs": [
    {
     "name": "stdout",
     "output_type": "stream",
     "text": [
      "+--------+\n",
      "|      Id|\n",
      "+--------+\n",
      "|  206258|\n",
      "| 2279993|\n",
      "|23043938|\n",
      "|53167196|\n",
      "|57614714|\n",
      "|57649465|\n",
      "|57689162|\n",
      "|57029989|\n",
      "|57576987|\n",
      "|47334139|\n",
      "|40689858|\n",
      "|57722308|\n",
      "|57726456|\n",
      "|57727515|\n",
      "|57728075|\n",
      "|57730003|\n",
      "|57733132|\n",
      "|57734725|\n",
      "|57734751|\n",
      "|57736739|\n",
      "+--------+\n",
      "only showing top 20 rows\n",
      "\n"
     ]
    }
   ],
   "source": [
    "questions.where(year('ClosedDate') == 2019) \\\n",
    "    .where(month('ClosedDate') == 9).select('Id').show()"
   ]
  },
  {
   "cell_type": "code",
   "execution_count": 24,
   "metadata": {},
   "outputs": [],
   "source": [
    "\n",
    "# mało badży (do tego czasu)\n",
    "# mało tagów\n",
    "# dużo tagów\n",
    "# za krótkie pytanie -> mniej niż 100 znaków\n",
    "# długość pytania\n",
    "# długość tytułu\n",
    "# wiek\n",
    "# autor dopiero zarejestrowany (+1)\n",
    "# niski view count\n",
    "# tytuł kończy się znakiem zapytania\n",
    "# tytuł krótszy niż 5 znaków\n",
    "# CAPS lock w tytule\n",
    "# dużo znaków interpunkcyjnych w tytule\n",
    "# obecność obrazków\n",
    "# \"internet\"\n",
    "# \"please\"\n",
    "# title zaczyna się wielką literą\n",
    "# title zaczyna się od \"how\", \"what\" albo \"why\"\n",
    "# godzina\n",
    "# czy weekend?\n",
    "# ile postów usera zostało zamkniętych (do tego czasu)\n",
    "# ile pytań zadał dotąd\n",
    "# ma \"defaultowy\" nick?\n",
    "# wpisana lokacja?\n",
    "# owner user id jest pusty?"
   ]
  },
  {
   "cell_type": "markdown",
   "metadata": {},
   "source": [
    "## Cechy na początek:\n",
    "\n",
    " * ocena na minusie (+1)\n",
    " * obecność kodu (+1)\n",
    " * autor dopiero zarejestrowany (+1)"
   ]
  },
  {
   "cell_type": "code",
   "execution_count": null,
   "metadata": {},
   "outputs": [],
   "source": [
    "```\n",
    "this is my code\n",
    "``` \n",
    "\n",
    "\n",
    "-> <pre><code>\n",
    "\n",
    "\n",
    "this is `my` code\n",
    "\n",
    "--> <code>"
   ]
  },
  {
   "cell_type": "code",
   "execution_count": 49,
   "metadata": {},
   "outputs": [
    {
     "name": "stdout",
     "output_type": "stream",
     "text": [
      "+----+--------+---------------------------------+\n",
      "|  Id|      Id|how_many_days_ago_user_registered|\n",
      "+----+--------+---------------------------------+\n",
      "| 148|   58024|                               41|\n",
      "| 148|   58425|                               41|\n",
      "| 148|  143681|                               56|\n",
      "| 148| 7991542|                             1188|\n",
      "| 463|  783155|                              260|\n",
      "| 463|    5606|                                2|\n",
      "| 463| 1304591|                              379|\n",
      "| 463| 1521599|                              425|\n",
      "| 463|  621266|                              213|\n",
      "| 463| 2047194|                              524|\n",
      "| 463| 3007533|                              672|\n",
      "| 463|12776625|                             1524|\n",
      "| 463|14781537|                             1647|\n",
      "|1088|  885819|                              281|\n",
      "|1088|  925981|                              290|\n",
      "|1088|  829623|                              267|\n",
      "|1088|    8939|                                0|\n",
      "|1088|  401847|                              140|\n",
      "|1088|  618850|                              206|\n",
      "|1088| 3331469|                              712|\n",
      "+----+--------+---------------------------------+\n",
      "only showing top 20 rows\n",
      "\n"
     ]
    }
   ],
   "source": [
    "questions \\\n",
    "    .show()"
   ]
  },
  {
   "cell_type": "code",
   "execution_count": 81,
   "metadata": {},
   "outputs": [],
   "source": [
    "import re\n",
    "def how_many_code_letters(body):\n",
    "    if body == None:\n",
    "        return 0 ## or None?\n",
    "    letters = 0\n",
    "    for code in re.finditer('<code>([^<]+)</code>', body):\n",
    "        letters += len(code.group(1))\n",
    "    return letters"
   ]
  },
  {
   "cell_type": "code",
   "execution_count": 82,
   "metadata": {},
   "outputs": [
    {
     "data": {
      "text/plain": [
       "4"
      ]
     },
     "execution_count": 82,
     "metadata": {},
     "output_type": "execute_result"
    }
   ],
   "source": [
    "how_many_code_letters('<code>abc</code> <code>1</code>')"
   ]
  },
  {
   "cell_type": "code",
   "execution_count": 51,
   "metadata": {},
   "outputs": [
    {
     "name": "stdout",
     "output_type": "stream",
     "text": [
      "+------+-----------------------+-----+-----------------+-----------+-------------------------+---------------------------------+---------+\n",
      "|    Id|is_score_less_than_zero|Score|has_code_attached|code_length|is_author_just_registered|how_many_days_ago_user_registered|is_closed|\n",
      "+------+-----------------------+-----+-----------------+-----------+-------------------------+---------------------------------+---------+\n",
      "|839854|                  false|    3|             true|         -1|                    false|                               30|    false|\n",
      "|839856|                  false|   13|            false|         -1|                     true|                                0|    false|\n",
      "|839861|                  false|    2|            false|         -1|                    false|                              204|    false|\n",
      "|839873|                  false|    1|            false|         -1|                    false|                               95|    false|\n",
      "|839874|                  false|    0|            false|         -1|                    false|                                9|    false|\n",
      "|839875|                  false|    7|            false|         -1|                    false|                              171|    false|\n",
      "|839888|                  false|   58|             true|         -1|                    false|                              280|    false|\n",
      "|839893|                  false|    8|             true|         -1|                    false|                              168|    false|\n",
      "|839898|                  false|    0|             true|         -1|                    false|                               25|    false|\n",
      "|839899|                  false|  210|             true|         -1|                    false|                                3|    false|\n",
      "|839903|                  false|    4|             true|         -1|                    false|                              203|    false|\n",
      "|839912|                  false|    0|            false|         -1|                    false|                                4|    false|\n",
      "|839915|                  false|    2|            false|         -1|                    false|                              161|    false|\n",
      "|839938|                  false|   19|             true|         -1|                     true|                                0|    false|\n",
      "|839942|                  false|    3|            false|         -1|                    false|                                8|    false|\n",
      "|839945|                  false|    0|             true|         -1|                    false|                              214|    false|\n",
      "|839958|                  false|   29|             true|         -1|                     true|                                0|    false|\n",
      "|839963|                  false|    1|             true|         -1|                     true|                                0|    false|\n",
      "|839966|                  false|    1|             true|         -1|                    false|                              163|    false|\n",
      "|839971|                  false|    1|             true|         -1|                    false|                               10|    false|\n",
      "+------+-----------------------+-----+-----------------+-----------+-------------------------+---------------------------------+---------+\n",
      "only showing top 20 rows\n",
      "\n"
     ]
    }
   ],
   "source": [
    "days_difference_between_reg_and_post = datediff(questions.CreationDate, users.CreationDate)\n",
    "questions.join(broadcast(users), questions.OwnerUserId == users.Id) \\\n",
    "    .select(\n",
    "        questions.Id,\n",
    "        (col('Score')<0).alias('is_score_less_than_zero'),\n",
    "        'Score',\n",
    "        col('Body').contains('<code>').alias('has_code_attached'),\n",
    "        lit(-1).alias('code_length'),\n",
    "        (days_difference_between_reg_and_post < 2).alias('is_author_just_registered'),\n",
    "        days_difference_between_reg_and_post.alias('how_many_days_ago_user_registered'),\n",
    "        col('ClosedDate').isNotNull().alias('is_closed'),\n",
    "    ).show()"
   ]
  },
  {
   "cell_type": "markdown",
   "metadata": {},
   "source": [
    "## Przydatne funkcje\n",
    "\n",
    " * `unix_timestamp`\n",
    " * `regexp_extract`"
   ]
  },
  {
   "cell_type": "code",
   "execution_count": 29,
   "metadata": {},
   "outputs": [
    {
     "name": "stdout",
     "output_type": "stream",
     "text": [
      "root\n",
      " |-- Id: integer (nullable = true)\n",
      " |-- Reputation: integer (nullable = true)\n",
      " |-- CreationDate: timestamp (nullable = true)\n",
      " |-- DisplayName: string (nullable = true)\n",
      " |-- LastAccessDate: timestamp (nullable = true)\n",
      " |-- WebsiteUrl: string (nullable = true)\n",
      " |-- Location: string (nullable = true)\n",
      " |-- AboutMe: string (nullable = true)\n",
      " |-- Views: integer (nullable = true)\n",
      " |-- UpVotes: integer (nullable = true)\n",
      " |-- DownVotes: integer (nullable = true)\n",
      " |-- ProfileImageUrl: string (nullable = true)\n",
      " |-- Age: integer (nullable = true)\n",
      " |-- AccountId: integer (nullable = true)\n",
      "\n"
     ]
    }
   ],
   "source": [
    "users = spark.read.parquet(f'{base_path}/Users')\n",
    "users.printSchema()"
   ]
  },
  {
   "cell_type": "code",
   "execution_count": null,
   "metadata": {},
   "outputs": [],
   "source": []
  }
 ],
 "metadata": {
  "kernelspec": {
   "display_name": "Python 3",
   "language": "python",
   "name": "python3"
  },
  "language_info": {
   "codemirror_mode": {
    "name": "ipython",
    "version": 3
   },
   "file_extension": ".py",
   "mimetype": "text/x-python",
   "name": "python",
   "nbconvert_exporter": "python",
   "pygments_lexer": "ipython3",
   "version": "3.7.3"
  }
 },
 "nbformat": 4,
 "nbformat_minor": 2
}
