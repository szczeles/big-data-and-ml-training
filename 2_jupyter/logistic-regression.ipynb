{
 "cells": [
  {
   "cell_type": "code",
   "execution_count": 1,
   "metadata": {},
   "outputs": [],
   "source": [
    "from pyspark.sql import SparkSession\n",
    "from pyspark.sql.functions import *\n",
    "from pyspark.sql.window import Window\n",
    "from pyspark.sql.types import *\n",
    "spark = SparkSession.builder \\\n",
    "    .config('spark.driver.memory', '3g') \\\n",
    "    .enableHiveSupport().getOrCreate()"
   ]
  },
  {
   "cell_type": "code",
   "execution_count": 2,
   "metadata": {},
   "outputs": [
    {
     "name": "stdout",
     "output_type": "stream",
     "text": [
      "Badges\tComments  PostLinks  Posts  Tags  Users  Votes\r\n"
     ]
    }
   ],
   "source": [
    "! ls /data"
   ]
  },
  {
   "cell_type": "code",
   "execution_count": 3,
   "metadata": {},
   "outputs": [],
   "source": [
    "base_path = 'file:///data'"
   ]
  },
  {
   "cell_type": "code",
   "execution_count": 4,
   "metadata": {},
   "outputs": [],
   "source": [
    "posts = spark.read.format('parquet').load(f'{base_path}/Posts/part-00500*')"
   ]
  },
  {
   "cell_type": "code",
   "execution_count": 5,
   "metadata": {},
   "outputs": [
    {
     "data": {
      "text/plain": [
       "71561"
      ]
     },
     "execution_count": 5,
     "metadata": {},
     "output_type": "execute_result"
    }
   ],
   "source": [
    "posts.count()"
   ]
  },
  {
   "cell_type": "code",
   "execution_count": 6,
   "metadata": {},
   "outputs": [
    {
     "name": "stdout",
     "output_type": "stream",
     "text": [
      "root\n",
      " |-- Id: integer (nullable = true)\n",
      " |-- ParentId: integer (nullable = true)\n",
      " |-- PostTypeId: integer (nullable = true)\n",
      " |-- CreationDate: timestamp (nullable = true)\n",
      " |-- Score: integer (nullable = true)\n",
      " |-- ViewCount: integer (nullable = true)\n",
      " |-- Body: string (nullable = true)\n",
      " |-- OwnerUserId: integer (nullable = true)\n",
      " |-- LastActivityDate: timestamp (nullable = true)\n",
      " |-- Title: string (nullable = true)\n",
      " |-- Tags: array (nullable = true)\n",
      " |    |-- element: string (containsNull = true)\n",
      " |-- CommentCount: integer (nullable = true)\n",
      " |-- AnswerCount: integer (nullable = true)\n",
      " |-- LastEditDate: timestamp (nullable = true)\n",
      " |-- LastEditorUserId: integer (nullable = true)\n",
      " |-- AcceptedAnswerId: integer (nullable = true)\n",
      " |-- FavoriteCount: integer (nullable = true)\n",
      " |-- OwnerDisplayName: string (nullable = true)\n",
      " |-- ClosedDate: timestamp (nullable = true)\n",
      " |-- LastEditorDisplayName: string (nullable = true)\n",
      " |-- CommunityOwnedDate: timestamp (nullable = true)\n",
      "\n"
     ]
    }
   ],
   "source": [
    "posts.printSchema()"
   ]
  },
  {
   "cell_type": "code",
   "execution_count": 7,
   "metadata": {},
   "outputs": [
    {
     "name": "stdout",
     "output_type": "stream",
     "text": [
      "+----------+-----+\n",
      "|PostTypeId|count|\n",
      "+----------+-----+\n",
      "|         1|32773|\n",
      "|         5|   44|\n",
      "|         4|   44|\n",
      "|         2|38700|\n",
      "+----------+-----+\n",
      "\n"
     ]
    }
   ],
   "source": [
    "posts.groupBy('PostTypeId').count().show()"
   ]
  },
  {
   "cell_type": "code",
   "execution_count": 8,
   "metadata": {},
   "outputs": [],
   "source": [
    "QUESTION_POST_TYPE = 1\n",
    "questions = posts.where(col('PostTypeId') == QUESTION_POST_TYPE)"
   ]
  },
  {
   "cell_type": "code",
   "execution_count": 9,
   "metadata": {},
   "outputs": [
    {
     "name": "stdout",
     "output_type": "stream",
     "text": [
      "root\n",
      " |-- Id: integer (nullable = true)\n",
      " |-- ParentId: integer (nullable = true)\n",
      " |-- PostTypeId: integer (nullable = true)\n",
      " |-- CreationDate: timestamp (nullable = true)\n",
      " |-- Score: integer (nullable = true)\n",
      " |-- ViewCount: integer (nullable = true)\n",
      " |-- Body: string (nullable = true)\n",
      " |-- OwnerUserId: integer (nullable = true)\n",
      " |-- LastActivityDate: timestamp (nullable = true)\n",
      " |-- Title: string (nullable = true)\n",
      " |-- Tags: array (nullable = true)\n",
      " |    |-- element: string (containsNull = true)\n",
      " |-- CommentCount: integer (nullable = true)\n",
      " |-- AnswerCount: integer (nullable = true)\n",
      " |-- LastEditDate: timestamp (nullable = true)\n",
      " |-- LastEditorUserId: integer (nullable = true)\n",
      " |-- AcceptedAnswerId: integer (nullable = true)\n",
      " |-- FavoriteCount: integer (nullable = true)\n",
      " |-- OwnerDisplayName: string (nullable = true)\n",
      " |-- ClosedDate: timestamp (nullable = true)\n",
      " |-- LastEditorDisplayName: string (nullable = true)\n",
      " |-- CommunityOwnedDate: timestamp (nullable = true)\n",
      "\n"
     ]
    }
   ],
   "source": [
    "questions.printSchema()"
   ]
  },
  {
   "cell_type": "markdown",
   "metadata": {},
   "source": [
    "### 1. Czy pytanie może być community-owned? (`CommunityOwnedDate`)"
   ]
  },
  {
   "cell_type": "code",
   "execution_count": 10,
   "metadata": {},
   "outputs": [],
   "source": [
    "questions.where(col('CommunityOwnedDate').isNotNull()).select('Id').first()"
   ]
  },
  {
   "cell_type": "markdown",
   "metadata": {},
   "source": [
    "### 2. Przykładowy ID zamkniętego pytania z września 2019 (`ClosedDate`)\n",
    "\n",
    "https://stackoverflow.com/q/839899"
   ]
  },
  {
   "cell_type": "code",
   "execution_count": 11,
   "metadata": {},
   "outputs": [
    {
     "name": "stdout",
     "output_type": "stream",
     "text": [
      "+---+\n",
      "| Id|\n",
      "+---+\n",
      "+---+\n",
      "\n"
     ]
    }
   ],
   "source": [
    "questions.where(year('ClosedDate') == 2019) \\\n",
    "    .where(month('ClosedDate') == 9).select('Id').show()"
   ]
  },
  {
   "cell_type": "code",
   "execution_count": 12,
   "metadata": {},
   "outputs": [],
   "source": [
    "\n",
    "# mało badży (do tego czasu)\n",
    "# mało tagów\n",
    "# dużo tagów\n",
    "# za krótkie pytanie -> mniej niż 100 znaków\n",
    "# długość pytania\n",
    "# długość tytułu\n",
    "# wiek\n",
    "# autor dopiero zarejestrowany (+1)\n",
    "# niski view count\n",
    "# tytuł kończy się znakiem zapytania\n",
    "# tytuł krótszy niż 5 znaków\n",
    "# CAPS lock w tytule\n",
    "# dużo znaków interpunkcyjnych w tytule\n",
    "# obecność obrazków\n",
    "# \"internet\"\n",
    "# \"please\"\n",
    "# title zaczyna się wielką literą\n",
    "# title zaczyna się od \"how\", \"what\" albo \"why\"\n",
    "# godzina\n",
    "# czy weekend?\n",
    "# ile postów usera zostało zamkniętych (do tego czasu)\n",
    "# ile pytań zadał dotąd\n",
    "# ma \"defaultowy\" nick?\n",
    "# wpisana lokacja?\n",
    "# owner user id jest pusty?"
   ]
  },
  {
   "cell_type": "markdown",
   "metadata": {},
   "source": [
    "## Cechy na początek:\n",
    "\n",
    " * ocena na minusie (+1)\n",
    " * obecność kodu (+1)\n",
    " * autor dopiero zarejestrowany (+1)"
   ]
  },
  {
   "cell_type": "markdown",
   "metadata": {},
   "source": [
    "```\n",
    "this is my code\n",
    "``` \n",
    "\n",
    "\n",
    "-> <pre><code>\n",
    "\n",
    "\n",
    "this is `my` code\n",
    "\n",
    "--> <code>"
   ]
  },
  {
   "cell_type": "code",
   "execution_count": 13,
   "metadata": {},
   "outputs": [
    {
     "name": "stdout",
     "output_type": "stream",
     "text": [
      "+--------+--------+----------+--------------------+-----+---------+--------------------+-----------+--------------------+--------------------+--------------------+------------+-----------+--------------------+----------------+----------------+-------------+----------------+--------------------+---------------------+------------------+\n",
      "|      Id|ParentId|PostTypeId|        CreationDate|Score|ViewCount|                Body|OwnerUserId|    LastActivityDate|               Title|                Tags|CommentCount|AnswerCount|        LastEditDate|LastEditorUserId|AcceptedAnswerId|FavoriteCount|OwnerDisplayName|          ClosedDate|LastEditorDisplayName|CommunityOwnedDate|\n",
      "+--------+--------+----------+--------------------+-----+---------+--------------------+-----------+--------------------+--------------------+--------------------+------------+-----------+--------------------+----------------+----------------+-------------+----------------+--------------------+---------------------+------------------+\n",
      "|52973431|    null|         1|2018-10-24 16:02:...|   -3|       74|<p>I've got 2 lis...|   10414086|2019-08-21 17:41:...|Comparing items i...|[python, list, co...|           4|          3|2018-10-25 08:16:...|        10414086|            null|         null|            null|2018-10-24 17:58:...|                 null|              null|\n",
      "|52973433|    null|         1|2018-10-24 16:02:...|   -1|       25|<p>When someone v...|   10553105|2018-10-24 16:29:...|Use Google Tag Ma...|[google-tag-manager]|           1|          1|                null|            null|            null|         null|            null|                null|                 null|              null|\n",
      "|52973435|    null|         1|2018-10-24 16:02:...|    0|       10|<p>Currently I ru...|    3061689|2018-10-24 16:02:...|supervisor runnin...|[celery, supervis...|           0|          0|                null|            null|            null|         null|            null|                null|                 null|              null|\n",
      "|52973437|    null|         1|2018-10-24 16:02:...|    0|       56|<p>HI I am trying...|   10553130|2018-10-24 18:19:...|Error: Program ty...|[android, android...|           0|          0|2018-10-24 18:19:...|         9478932|            null|         null|            null|                null|                 null|              null|\n",
      "|52973441|    null|         1|2018-10-24 16:03:...|    1|       86|<p>I am working o...|    2809564|2018-10-25 03:56:...|How to sort the s...|        [mysql, sql]|           6|          5|2018-10-24 16:15:...|         2809564|            null|         null|            null|                null|                 null|              null|\n",
      "|52973443|    null|         1|2018-10-24 16:03:...|    0|       76|<p>I have the fol...|    2844702|2018-10-24 16:45:...|chain exception i...|[java, exception-...|           3|          1|2018-10-24 16:11:...|         2844702|        52973589|         null|            null|                null|                 null|              null|\n",
      "|52973445|    null|         1|2018-10-24 16:03:...|    0|      150|<p>I use python 3...|    9877737|2018-10-25 13:36:...|Get username with...|[python, python-3...|           0|          1|2018-10-24 16:10:...|         7008292|            null|         null|            null|                null|                 null|              null|\n",
      "|52973449|    null|         1|2018-10-24 16:03:...|    0|      348|<p>I've written s...|    9170569|2018-10-24 16:09:...|Multiple Pandas P...|[python, excel, p...|           1|          1|                null|            null|        52973564|         null|            null|                null|                 null|              null|\n",
      "|52973453|    null|         1|2018-10-24 16:03:...|    0|      298|<p>I am very new ...|    4177639|2018-10-25 08:46:...|Fetch in React ap...|[javascript, node...|           7|          0|2018-10-25 08:46:...|         4177639|            null|         null|            null|                null|                 null|              null|\n",
      "|52973454|    null|         1|2018-10-24 16:03:...|    0|       45|<p>Recently I hav...|    6661762|2018-10-26 06:36:...|DocumentBuilder.p...|[tomcat, dom, xml...|           6|          0|2018-10-26 06:36:...|         6661762|            null|            1|            null|                null|                 null|              null|\n",
      "|52973456|    null|         1|2018-10-24 16:03:...|    0|      106|<p>I need your he...|    5537790|2018-10-24 17:47:...|Does someone know...|[ionic-framework,...|           0|          0|2018-10-24 17:47:...|         5537790|            null|         null|            null|                null|                 null|              null|\n",
      "|52973457|    null|         1|2018-10-24 16:03:...|    2|       55|<p>I have a user ...|   10462532|2019-05-17 13:23:...|Creating a unique...|[excel, vba, exce...|           6|          1|                null|            null|            null|         null|            null|                null|                 null|              null|\n",
      "|52973458|    null|         1|2018-10-24 16:03:...|    0|      128|<p>I would like t...|   10496181|2018-10-24 16:03:...|VBScript endless ...|[windows, vbscrip...|           1|          0|                null|            null|            null|         null|            null|                null|                 null|              null|\n",
      "|52973460|    null|         1|2018-10-24 16:03:...|    0|       35|<p>From this <a h...|    6758812|2018-10-24 17:18:...|Conditional Opera...|     [c#, operators]|           4|          0|2018-10-24 17:18:...|           13302|            null|         null|            null|                null|                 null|              null|\n",
      "|52973461|    null|         1|2018-10-24 16:03:...|    1|      254|<p>I've been able...|    1036396|2018-10-25 08:06:...|Angular 6 display...|[javascript, angu...|           0|          2|2018-10-24 16:31:...|         1036396|        52973509|         null|            null|                null|                 null|              null|\n",
      "|52973464|    null|         1|2018-10-24 16:04:...|   18|      805|<p><strong>Link t...|    9248774|2019-01-20 12:20:...|Set audio endpoin...|[c++, audio, wind...|           2|          1|2019-01-20 12:20:...|         9248774|            null|            4|            null|                null|                 null|              null|\n",
      "|52973470|    null|         1|2018-10-24 16:04:...|    0|       89|<p>I have develop...|   10553079|2018-10-24 16:04:...|Mobile Menu and A...|[wordpress, theme...|           0|          0|                null|            null|            null|         null|            null|                null|                 null|              null|\n",
      "|52973473|    null|         1|2018-10-24 16:04:...|    5|      839|<p>I'm trying to ...|    9062751|2018-11-06 02:34:...|How to handle cha...|[java, spring, ht...|           2|          2|2018-11-01 14:31:...|         9062751|            null|            2|            null|                null|                 null|              null|\n",
      "|52973475|    null|         1|2018-10-24 16:04:...|    0|       37|<p>I am executing...|    1403955|2018-10-24 16:04:...|Azure ML Studio e...|[python-2.7, azur...|           0|          0|                null|            null|            null|         null|            null|                null|                 null|              null|\n",
      "|52973476|    null|         1|2018-10-24 16:04:...|    0|       16|<p>Anybody can he...|    4811969|2018-10-24 18:14:...|Requirements coul...|[composer-php, de...|           0|          1|                null|            null|            null|         null|            null|                null|                 null|              null|\n",
      "+--------+--------+----------+--------------------+-----+---------+--------------------+-----------+--------------------+--------------------+--------------------+------------+-----------+--------------------+----------------+----------------+-------------+----------------+--------------------+---------------------+------------------+\n",
      "only showing top 20 rows\n",
      "\n"
     ]
    }
   ],
   "source": [
    "questions \\\n",
    "    .show()"
   ]
  },
  {
   "cell_type": "code",
   "execution_count": 14,
   "metadata": {},
   "outputs": [],
   "source": [
    "import re\n",
    "def how_many_code_letters(body):\n",
    "    if body == None:\n",
    "        return 0 ## or None?\n",
    "    letters = 0\n",
    "    for code in re.finditer('<code>([^<]+)</code>', body):\n",
    "        letters += len(code.group(1))\n",
    "    return letters"
   ]
  },
  {
   "cell_type": "code",
   "execution_count": 15,
   "metadata": {},
   "outputs": [],
   "source": [
    "assert how_many_code_letters('<code>abc</code> <code>1</code>') == 4\n",
    "assert how_many_code_letters('<pre><code>abc</code></pre> <code>1</code>') == 4\n",
    "assert how_many_code_letters('''\n",
    "<pre><code>line1\n",
    "line2</code></pre> <code>1</code>\n",
    "''') == 12"
   ]
  },
  {
   "cell_type": "code",
   "execution_count": 16,
   "metadata": {},
   "outputs": [],
   "source": [
    "how_many_code_letters_udf = udf(how_many_code_letters, IntegerType())"
   ]
  },
  {
   "cell_type": "code",
   "execution_count": 17,
   "metadata": {},
   "outputs": [],
   "source": [
    "users = spark.read.parquet(f'{base_path}/Users')\n",
    "# users.printSchema()"
   ]
  },
  {
   "cell_type": "code",
   "execution_count": 18,
   "metadata": {},
   "outputs": [],
   "source": [
    "days_difference_between_reg_and_post = datediff(questions.CreationDate, users.CreationDate)\n",
    "input_df = questions.join(users, questions.OwnerUserId == users.Id) \\\n",
    "    .select(\n",
    "        questions.Id,\n",
    "        (col('Score')<0).alias('is_score_less_than_zero'),\n",
    "        'Score',\n",
    "        col('Body').contains('<code>').alias('has_code_attached'),\n",
    "        how_many_code_letters_udf('Body').alias('code_length'),\n",
    "        (days_difference_between_reg_and_post < 2).alias('is_author_just_registered'),\n",
    "        days_difference_between_reg_and_post.alias('how_many_days_ago_user_registered'),\n",
    "        col('ClosedDate').isNotNull().alias('is_closed'),\n",
    "    )"
   ]
  },
  {
   "cell_type": "markdown",
   "metadata": {},
   "source": [
    "## Przydatne funkcje\n",
    "\n",
    " * `unix_timestamp`\n",
    " * `regexp_extract`"
   ]
  },
  {
   "cell_type": "code",
   "execution_count": 19,
   "metadata": {},
   "outputs": [
    {
     "name": "stdout",
     "output_type": "stream",
     "text": [
      "root\n",
      " |-- Id: integer (nullable = true)\n",
      " |-- is_score_less_than_zero: boolean (nullable = true)\n",
      " |-- Score: integer (nullable = true)\n",
      " |-- has_code_attached: boolean (nullable = true)\n",
      " |-- code_length: integer (nullable = true)\n",
      " |-- is_author_just_registered: boolean (nullable = true)\n",
      " |-- how_many_days_ago_user_registered: integer (nullable = true)\n",
      " |-- is_closed: boolean (nullable = false)\n",
      "\n"
     ]
    }
   ],
   "source": [
    "input_df.printSchema()"
   ]
  },
  {
   "cell_type": "markdown",
   "metadata": {},
   "source": [
    "## MLLib\n",
    "\n",
    "* `label` -> liczba\n",
    "* `features` -> tablica liczb"
   ]
  },
  {
   "cell_type": "code",
   "execution_count": 20,
   "metadata": {},
   "outputs": [],
   "source": [
    "from pyspark.ml.feature import "
   ]
  },
  {
   "cell_type": "code",
   "execution_count": 21,
   "metadata": {},
   "outputs": [
    {
     "data": {
      "text/plain": [
       "Row(Id=53011229, is_score_less_than_zero=False, Score=14, has_code_attached=True, code_length=347, is_author_just_registered=False, how_many_days_ago_user_registered=3166, is_closed=0, VectorAssembler_41f9ce998f49__output=DenseVector([0.0, 14.0, 1.0, 347.0, 0.0, 3166.0]))"
      ]
     },
     "execution_count": 21,
     "metadata": {},
     "output_type": "execute_result"
    }
   ],
   "source": [
    "assembler = VectorAssembler(inputCols=[\n",
    "    'is_score_less_than_zero',\n",
    "    'Score',\n",
    "    'has_code_attached',\n",
    "    'code_length',\n",
    "    'is_author_just_registered',\n",
    "    'how_many_days_ago_user_registered'\n",
    "])\n",
    "\n",
    "assembler.transform(input_df) \\\n",
    "    .withColumn('is_closed', col('is_closed').cast('int')) \\\n",
    "    .first()"
   ]
  },
  {
   "cell_type": "code",
   "execution_count": null,
   "metadata": {},
   "outputs": [],
   "source": []
  }
 ],
 "metadata": {
  "kernelspec": {
   "display_name": "Python 3",
   "language": "python",
   "name": "python3"
  },
  "language_info": {
   "codemirror_mode": {
    "name": "ipython",
    "version": 3
   },
   "file_extension": ".py",
   "mimetype": "text/x-python",
   "name": "python",
   "nbconvert_exporter": "python",
   "pygments_lexer": "ipython3",
   "version": "3.7.3"
  }
 },
 "nbformat": 4,
 "nbformat_minor": 2
}
