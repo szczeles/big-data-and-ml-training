{
 "cells": [
  {
   "cell_type": "code",
   "execution_count": 1,
   "metadata": {},
   "outputs": [],
   "source": [
    "from pyspark.sql import SparkSession\n",
    "from pyspark.sql.functions import *\n",
    "spark = SparkSession.builder.enableHiveSupport().getOrCreate()"
   ]
  },
  {
   "cell_type": "code",
   "execution_count": 2,
   "metadata": {},
   "outputs": [
    {
     "data": {
      "text/html": [
       "\n",
       "            <div>\n",
       "                <p><b>SparkSession - hive</b></p>\n",
       "                \n",
       "        <div>\n",
       "            <p><b>SparkContext</b></p>\n",
       "\n",
       "            <p><a href=\"http://0b7a88ed851a:4040\">Spark UI</a></p>\n",
       "\n",
       "            <dl>\n",
       "              <dt>Version</dt>\n",
       "                <dd><code>v2.4.4</code></dd>\n",
       "              <dt>Master</dt>\n",
       "                <dd><code>local[*]</code></dd>\n",
       "              <dt>AppName</dt>\n",
       "                <dd><code>pyspark-shell</code></dd>\n",
       "            </dl>\n",
       "        </div>\n",
       "        \n",
       "            </div>\n",
       "        "
      ],
      "text/plain": [
       "<pyspark.sql.session.SparkSession at 0x7fdd6b442128>"
      ]
     },
     "execution_count": 2,
     "metadata": {},
     "output_type": "execute_result"
    }
   ],
   "source": [
    "spark"
   ]
  },
  {
   "cell_type": "code",
   "execution_count": 3,
   "metadata": {},
   "outputs": [],
   "source": [
    "badges = spark.read.parquet('/data/stackoverflow/Badges')"
   ]
  },
  {
   "cell_type": "code",
   "execution_count": 4,
   "metadata": {},
   "outputs": [
    {
     "name": "stdout",
     "output_type": "stream",
     "text": [
      "root\n",
      " |-- Id: integer (nullable = true)\n",
      " |-- UserId: integer (nullable = true)\n",
      " |-- Name: string (nullable = true)\n",
      " |-- Date: timestamp (nullable = true)\n",
      " |-- Class: integer (nullable = true)\n",
      " |-- TagBased: boolean (nullable = true)\n",
      "\n"
     ]
    }
   ],
   "source": [
    "badges.printSchema()"
   ]
  },
  {
   "cell_type": "code",
   "execution_count": 5,
   "metadata": {},
   "outputs": [
    {
     "data": {
      "text/plain": [
       "32450580"
      ]
     },
     "execution_count": 5,
     "metadata": {},
     "output_type": "execute_result"
    }
   ],
   "source": [
    "badges.count()"
   ]
  },
  {
   "cell_type": "markdown",
   "metadata": {},
   "source": [
    "## Odczyt danych"
   ]
  },
  {
   "cell_type": "code",
   "execution_count": 6,
   "metadata": {},
   "outputs": [
    {
     "data": {
      "text/plain": [
       "Row(Id=82946, UserId=3718, Name='Teacher', Date=datetime.datetime(2008, 9, 15, 8, 55, 3, 923000), Class=3, TagBased=False)"
      ]
     },
     "execution_count": 6,
     "metadata": {},
     "output_type": "execute_result"
    }
   ],
   "source": [
    "badges.first()"
   ]
  },
  {
   "cell_type": "code",
   "execution_count": 7,
   "metadata": {},
   "outputs": [
    {
     "data": {
      "text/plain": [
       "True"
      ]
     },
     "execution_count": 7,
     "metadata": {},
     "output_type": "execute_result"
    }
   ],
   "source": [
    "badges.first().Name == 'Teacher'"
   ]
  },
  {
   "cell_type": "code",
   "execution_count": 8,
   "metadata": {},
   "outputs": [
    {
     "name": "stdout",
     "output_type": "stream",
     "text": [
      "+-----+------+-------+--------------------+-----+--------+\n",
      "|   Id|UserId|   Name|                Date|Class|TagBased|\n",
      "+-----+------+-------+--------------------+-----+--------+\n",
      "|82946|  3718|Teacher|2008-09-15 08:55:...|    3|   false|\n",
      "|82947|   994|Teacher|2008-09-15 08:55:...|    3|   false|\n",
      "|82949|  3893|Teacher|2008-09-15 08:55:...|    3|   false|\n",
      "+-----+------+-------+--------------------+-----+--------+\n",
      "only showing top 3 rows\n",
      "\n"
     ]
    }
   ],
   "source": [
    "badges.show(3)"
   ]
  },
  {
   "cell_type": "code",
   "execution_count": 9,
   "metadata": {},
   "outputs": [
    {
     "name": "stdout",
     "output_type": "stream",
     "text": [
      "+-----+------+-------+-----------------------+-----+--------+\n",
      "|Id   |UserId|Name   |Date                   |Class|TagBased|\n",
      "+-----+------+-------+-----------------------+-----+--------+\n",
      "|82946|3718  |Teacher|2008-09-15 08:55:03.923|3    |false   |\n",
      "|82947|994   |Teacher|2008-09-15 08:55:03.957|3    |false   |\n",
      "|82949|3893  |Teacher|2008-09-15 08:55:03.957|3    |false   |\n",
      "+-----+------+-------+-----------------------+-----+--------+\n",
      "only showing top 3 rows\n",
      "\n"
     ]
    }
   ],
   "source": [
    "badges.show(3, truncate=False)"
   ]
  },
  {
   "cell_type": "code",
   "execution_count": 10,
   "metadata": {},
   "outputs": [
    {
     "data": {
      "text/plain": [
       "Row(Id=82951, UserId=5196, Name='Teacher', Date=datetime.datetime(2008, 9, 15, 8, 55, 3, 957000), Class=3, TagBased=False)"
      ]
     },
     "execution_count": 10,
     "metadata": {},
     "output_type": "execute_result"
    }
   ],
   "source": [
    "first_5_records = badges.take(5)\n",
    "first_5_records[-1]"
   ]
  },
  {
   "cell_type": "code",
   "execution_count": 11,
   "metadata": {},
   "outputs": [
    {
     "data": {
      "text/html": [
       "<div>\n",
       "<style scoped>\n",
       "    .dataframe tbody tr th:only-of-type {\n",
       "        vertical-align: middle;\n",
       "    }\n",
       "\n",
       "    .dataframe tbody tr th {\n",
       "        vertical-align: top;\n",
       "    }\n",
       "\n",
       "    .dataframe thead th {\n",
       "        text-align: right;\n",
       "    }\n",
       "</style>\n",
       "<table border=\"1\" class=\"dataframe\">\n",
       "  <thead>\n",
       "    <tr style=\"text-align: right;\">\n",
       "      <th></th>\n",
       "      <th>Id</th>\n",
       "      <th>UserId</th>\n",
       "      <th>Name</th>\n",
       "      <th>Date</th>\n",
       "      <th>Class</th>\n",
       "      <th>TagBased</th>\n",
       "    </tr>\n",
       "  </thead>\n",
       "  <tbody>\n",
       "    <tr>\n",
       "      <td>0</td>\n",
       "      <td>82946</td>\n",
       "      <td>3718</td>\n",
       "      <td>Teacher</td>\n",
       "      <td>2008-09-15 08:55:03.923</td>\n",
       "      <td>3</td>\n",
       "      <td>False</td>\n",
       "    </tr>\n",
       "    <tr>\n",
       "      <td>1</td>\n",
       "      <td>82947</td>\n",
       "      <td>994</td>\n",
       "      <td>Teacher</td>\n",
       "      <td>2008-09-15 08:55:03.957</td>\n",
       "      <td>3</td>\n",
       "      <td>False</td>\n",
       "    </tr>\n",
       "    <tr>\n",
       "      <td>2</td>\n",
       "      <td>82949</td>\n",
       "      <td>3893</td>\n",
       "      <td>Teacher</td>\n",
       "      <td>2008-09-15 08:55:03.957</td>\n",
       "      <td>3</td>\n",
       "      <td>False</td>\n",
       "    </tr>\n",
       "    <tr>\n",
       "      <td>3</td>\n",
       "      <td>82950</td>\n",
       "      <td>4591</td>\n",
       "      <td>Teacher</td>\n",
       "      <td>2008-09-15 08:55:03.957</td>\n",
       "      <td>3</td>\n",
       "      <td>False</td>\n",
       "    </tr>\n",
       "    <tr>\n",
       "      <td>4</td>\n",
       "      <td>82951</td>\n",
       "      <td>5196</td>\n",
       "      <td>Teacher</td>\n",
       "      <td>2008-09-15 08:55:03.957</td>\n",
       "      <td>3</td>\n",
       "      <td>False</td>\n",
       "    </tr>\n",
       "    <tr>\n",
       "      <td>...</td>\n",
       "      <td>...</td>\n",
       "      <td>...</td>\n",
       "      <td>...</td>\n",
       "      <td>...</td>\n",
       "      <td>...</td>\n",
       "      <td>...</td>\n",
       "    </tr>\n",
       "    <tr>\n",
       "      <td>295</td>\n",
       "      <td>83421</td>\n",
       "      <td>3289</td>\n",
       "      <td>Teacher</td>\n",
       "      <td>2008-09-15 08:55:03.957</td>\n",
       "      <td>3</td>\n",
       "      <td>False</td>\n",
       "    </tr>\n",
       "    <tr>\n",
       "      <td>296</td>\n",
       "      <td>83422</td>\n",
       "      <td>2688</td>\n",
       "      <td>Teacher</td>\n",
       "      <td>2008-09-15 08:55:03.957</td>\n",
       "      <td>3</td>\n",
       "      <td>False</td>\n",
       "    </tr>\n",
       "    <tr>\n",
       "      <td>297</td>\n",
       "      <td>83423</td>\n",
       "      <td>3622</td>\n",
       "      <td>Teacher</td>\n",
       "      <td>2008-09-15 08:55:03.957</td>\n",
       "      <td>3</td>\n",
       "      <td>False</td>\n",
       "    </tr>\n",
       "    <tr>\n",
       "      <td>298</td>\n",
       "      <td>83424</td>\n",
       "      <td>698</td>\n",
       "      <td>Teacher</td>\n",
       "      <td>2008-09-15 08:55:03.957</td>\n",
       "      <td>3</td>\n",
       "      <td>False</td>\n",
       "    </tr>\n",
       "    <tr>\n",
       "      <td>299</td>\n",
       "      <td>83425</td>\n",
       "      <td>5741</td>\n",
       "      <td>Teacher</td>\n",
       "      <td>2008-09-15 08:55:03.957</td>\n",
       "      <td>3</td>\n",
       "      <td>False</td>\n",
       "    </tr>\n",
       "  </tbody>\n",
       "</table>\n",
       "<p>300 rows × 6 columns</p>\n",
       "</div>"
      ],
      "text/plain": [
       "        Id  UserId     Name                    Date  Class  TagBased\n",
       "0    82946    3718  Teacher 2008-09-15 08:55:03.923      3     False\n",
       "1    82947     994  Teacher 2008-09-15 08:55:03.957      3     False\n",
       "2    82949    3893  Teacher 2008-09-15 08:55:03.957      3     False\n",
       "3    82950    4591  Teacher 2008-09-15 08:55:03.957      3     False\n",
       "4    82951    5196  Teacher 2008-09-15 08:55:03.957      3     False\n",
       "..     ...     ...      ...                     ...    ...       ...\n",
       "295  83421    3289  Teacher 2008-09-15 08:55:03.957      3     False\n",
       "296  83422    2688  Teacher 2008-09-15 08:55:03.957      3     False\n",
       "297  83423    3622  Teacher 2008-09-15 08:55:03.957      3     False\n",
       "298  83424     698  Teacher 2008-09-15 08:55:03.957      3     False\n",
       "299  83425    5741  Teacher 2008-09-15 08:55:03.957      3     False\n",
       "\n",
       "[300 rows x 6 columns]"
      ]
     },
     "execution_count": 11,
     "metadata": {},
     "output_type": "execute_result"
    }
   ],
   "source": [
    "badges.limit(300).toPandas()"
   ]
  },
  {
   "cell_type": "code",
   "execution_count": 12,
   "metadata": {},
   "outputs": [
    {
     "data": {
      "text/plain": [
       "[Row(Id=82946, UserId=3718, Name='Teacher', Date=datetime.datetime(2008, 9, 15, 8, 55, 3, 923000), Class=3, TagBased=False),\n",
       " Row(Id=82947, UserId=994, Name='Teacher', Date=datetime.datetime(2008, 9, 15, 8, 55, 3, 957000), Class=3, TagBased=False)]"
      ]
     },
     "execution_count": 12,
     "metadata": {},
     "output_type": "execute_result"
    }
   ],
   "source": [
    "badges_with_limit = badges.limit(2)\n",
    "badges_with_limit.collect()"
   ]
  },
  {
   "cell_type": "code",
   "execution_count": 13,
   "metadata": {},
   "outputs": [
    {
     "data": {
      "text/plain": [
       "[Row(Id=82946, UserId=3718, Name='Teacher', Date=datetime.datetime(2008, 9, 15, 8, 55, 3, 923000), Class=3, TagBased=False),\n",
       " Row(Id=82947, UserId=994, Name='Teacher', Date=datetime.datetime(2008, 9, 15, 8, 55, 3, 957000), Class=3, TagBased=False)]"
      ]
     },
     "execution_count": 13,
     "metadata": {},
     "output_type": "execute_result"
    }
   ],
   "source": [
    "badges.take(2)"
   ]
  },
  {
   "cell_type": "markdown",
   "metadata": {},
   "source": [
    "## Selekcja danych (`WHERE`)"
   ]
  },
  {
   "cell_type": "code",
   "execution_count": 14,
   "metadata": {},
   "outputs": [
    {
     "data": {
      "text/plain": [
       "892514"
      ]
     },
     "execution_count": 14,
     "metadata": {},
     "output_type": "execute_result"
    }
   ],
   "source": [
    "condition = 'Class = 1' # 1 means gold badge\n",
    "badges.where(condition).count()"
   ]
  },
  {
   "cell_type": "code",
   "execution_count": 15,
   "metadata": {},
   "outputs": [
    {
     "name": "stdout",
     "output_type": "stream",
     "text": [
      "Column<b'(Class = 1)'>\n"
     ]
    },
    {
     "data": {
      "text/plain": [
       "892514"
      ]
     },
     "execution_count": 15,
     "metadata": {},
     "output_type": "execute_result"
    }
   ],
   "source": [
    "condition = badges.Class == 1\n",
    "print(condition)\n",
    "badges.where(condition).count()"
   ]
  },
  {
   "cell_type": "code",
   "execution_count": 16,
   "metadata": {},
   "outputs": [
    {
     "name": "stdout",
     "output_type": "stream",
     "text": [
      "Column<b'(Class = 1)'>\n"
     ]
    },
    {
     "data": {
      "text/plain": [
       "892514"
      ]
     },
     "execution_count": 16,
     "metadata": {},
     "output_type": "execute_result"
    }
   ],
   "source": [
    "condition = col('Class') == 1\n",
    "print(condition)\n",
    "badges.where(condition).count()"
   ]
  },
  {
   "cell_type": "code",
   "execution_count": 17,
   "metadata": {},
   "outputs": [
    {
     "data": {
      "text/plain": [
       "Row(Id=100568, UserId=30, Name='Great Question', Date=datetime.datetime(2008, 9, 15, 8, 55, 13, 720000), Class=1, TagBased=False)"
      ]
     },
     "execution_count": 17,
     "metadata": {},
     "output_type": "execute_result"
    }
   ],
   "source": [
    "badges.where(condition).first()"
   ]
  },
  {
   "cell_type": "code",
   "execution_count": 18,
   "metadata": {},
   "outputs": [
    {
     "data": {
      "text/plain": [
       "7473443"
      ]
     },
     "execution_count": 18,
     "metadata": {},
     "output_type": "execute_result"
    }
   ],
   "source": [
    "gold_badge = col('Class') == 1\n",
    "silver_badgs = col('Class') == 2\n",
    "badges.where(gold_badge | silver_badgs).count()"
   ]
  },
  {
   "cell_type": "code",
   "execution_count": 19,
   "metadata": {},
   "outputs": [
    {
     "data": {
      "text/plain": [
       "7473443"
      ]
     },
     "execution_count": 19,
     "metadata": {},
     "output_type": "execute_result"
    }
   ],
   "source": [
    "gold_or_silber_badge = col('Class').isin(1, 2)\n",
    "badges.where(gold_or_silber_badge).count()"
   ]
  },
  {
   "cell_type": "code",
   "execution_count": 20,
   "metadata": {},
   "outputs": [
    {
     "data": {
      "text/plain": [
       "7473443"
      ]
     },
     "execution_count": 20,
     "metadata": {},
     "output_type": "execute_result"
    }
   ],
   "source": [
    "not_gold_or_silber_badge = ~col('Class').isin(1, 2) # ticket no\n",
    "badges.where(gold_or_silber_badge).count()"
   ]
  },
  {
   "cell_type": "code",
   "execution_count": 21,
   "metadata": {},
   "outputs": [
    {
     "data": {
      "text/plain": [
       "892514"
      ]
     },
     "execution_count": 21,
     "metadata": {},
     "output_type": "execute_result"
    }
   ],
   "source": [
    "badges.where(col('Class') == 1).count()"
   ]
  },
  {
   "cell_type": "code",
   "execution_count": 22,
   "metadata": {},
   "outputs": [
    {
     "name": "stdout",
     "output_type": "stream",
     "text": [
      "root\n",
      " |-- Id: integer (nullable = true)\n",
      " |-- UserId: integer (nullable = true)\n",
      " |-- Name: string (nullable = true)\n",
      " |-- Date: timestamp (nullable = true)\n",
      " |-- Class: integer (nullable = true)\n",
      " |-- TagBased: boolean (nullable = true)\n",
      "\n"
     ]
    }
   ],
   "source": [
    "badges.printSchema()"
   ]
  },
  {
   "cell_type": "code",
   "execution_count": 23,
   "metadata": {},
   "outputs": [
    {
     "data": {
      "text/plain": [
       "179785"
      ]
     },
     "execution_count": 23,
     "metadata": {},
     "output_type": "execute_result"
    }
   ],
   "source": [
    "badges.where(col('TagBased')).count()\n",
    "badges.where(col('TagBased') == True).count()\n",
    "badges.where('TagBased').count()"
   ]
  },
  {
   "cell_type": "code",
   "execution_count": 24,
   "metadata": {},
   "outputs": [
    {
     "data": {
      "text/plain": [
       "32270795"
      ]
     },
     "execution_count": 24,
     "metadata": {},
     "output_type": "execute_result"
    }
   ],
   "source": [
    "badges.where(~col('TagBased')).count()"
   ]
  },
  {
   "cell_type": "code",
   "execution_count": 25,
   "metadata": {},
   "outputs": [
    {
     "data": {
      "text/plain": [
       "0"
      ]
     },
     "execution_count": 25,
     "metadata": {},
     "output_type": "execute_result"
    }
   ],
   "source": [
    "badges.where(col('TagBased').isNull()).count()"
   ]
  },
  {
   "cell_type": "code",
   "execution_count": 26,
   "metadata": {},
   "outputs": [
    {
     "data": {
      "text/plain": [
       "32450580"
      ]
     },
     "execution_count": 26,
     "metadata": {},
     "output_type": "execute_result"
    }
   ],
   "source": [
    "badges.where(col('TagBased').isNotNull()).count()"
   ]
  },
  {
   "cell_type": "code",
   "execution_count": 27,
   "metadata": {},
   "outputs": [
    {
     "data": {
      "text/plain": [
       "DataFrame[Id: int, UserId: int, Name: string, Date: timestamp, Class: int, TagBased: boolean]"
      ]
     },
     "execution_count": 27,
     "metadata": {},
     "output_type": "execute_result"
    }
   ],
   "source": [
    "badges"
   ]
  },
  {
   "cell_type": "code",
   "execution_count": 28,
   "metadata": {},
   "outputs": [
    {
     "data": {
      "text/plain": [
       "1457324"
      ]
     },
     "execution_count": 28,
     "metadata": {},
     "output_type": "execute_result"
    }
   ],
   "source": [
    "badges.where(col('Name') == 'Teacher').count()"
   ]
  },
  {
   "cell_type": "code",
   "execution_count": 29,
   "metadata": {},
   "outputs": [
    {
     "data": {
      "text/plain": [
       "2715940"
      ]
     },
     "execution_count": 29,
     "metadata": {},
     "output_type": "execute_result"
    }
   ],
   "source": [
    "badges.where(col('Name').like('T%')).count()"
   ]
  },
  {
   "cell_type": "code",
   "execution_count": 30,
   "metadata": {},
   "outputs": [
    {
     "data": {
      "text/plain": [
       "2718934"
      ]
     },
     "execution_count": 30,
     "metadata": {},
     "output_type": "execute_result"
    }
   ],
   "source": [
    "badges.where(col('Name').rlike('^[Tt]')).count()"
   ]
  },
  {
   "cell_type": "code",
   "execution_count": 31,
   "metadata": {},
   "outputs": [
    {
     "name": "stdout",
     "output_type": "stream",
     "text": [
      "CPU times: user 3.75 ms, sys: 3.19 ms, total: 6.94 ms\n",
      "Wall time: 1.03 s\n"
     ]
    },
    {
     "data": {
      "text/plain": [
       "1457324"
      ]
     },
     "execution_count": 31,
     "metadata": {},
     "output_type": "execute_result"
    }
   ],
   "source": [
    "%%time\n",
    "badges.where(col('name') == 'Teacher').count()"
   ]
  },
  {
   "cell_type": "code",
   "execution_count": 32,
   "metadata": {},
   "outputs": [
    {
     "name": "stdout",
     "output_type": "stream",
     "text": [
      "CPU times: user 2.61 ms, sys: 3.26 ms, total: 5.87 ms\n",
      "Wall time: 1.64 s\n"
     ]
    },
    {
     "data": {
      "text/plain": [
       "1457324"
      ]
     },
     "execution_count": 32,
     "metadata": {},
     "output_type": "execute_result"
    }
   ],
   "source": [
    "%%time\n",
    "badges.where(lower(col('name')) == 'teacher').count()"
   ]
  },
  {
   "cell_type": "code",
   "execution_count": 33,
   "metadata": {},
   "outputs": [
    {
     "data": {
      "text/plain": [
       "DataFrame[Id: int, UserId: int, Name: string, Date: timestamp, Class: int, TagBased: boolean]"
      ]
     },
     "execution_count": 33,
     "metadata": {},
     "output_type": "execute_result"
    }
   ],
   "source": [
    "badges"
   ]
  },
  {
   "cell_type": "code",
   "execution_count": 34,
   "metadata": {},
   "outputs": [
    {
     "data": {
      "text/plain": [
       "2906724"
      ]
     },
     "execution_count": 34,
     "metadata": {},
     "output_type": "execute_result"
    }
   ],
   "source": [
    "badges.where(year('Date') == '2019').count()"
   ]
  },
  {
   "cell_type": "code",
   "execution_count": 35,
   "metadata": {},
   "outputs": [
    {
     "data": {
      "text/plain": [
       "91546"
      ]
     },
     "execution_count": 35,
     "metadata": {},
     "output_type": "execute_result"
    }
   ],
   "source": [
    "badges.where(col('Date').cast('date').between('2019-01-10', '2019-01-17')).count()"
   ]
  },
  {
   "cell_type": "markdown",
   "metadata": {},
   "source": [
    "`YYYY-MM-DD HH:MM:SS.sss`"
   ]
  },
  {
   "cell_type": "code",
   "execution_count": 36,
   "metadata": {},
   "outputs": [
    {
     "data": {
      "text/plain": [
       "Row(Id=30881586, UserId=10895603, Name='Editor', Date=datetime.datetime(2019, 1, 14, 10, 30, 14, 73000), Class=3, TagBased=False)"
      ]
     },
     "execution_count": 36,
     "metadata": {},
     "output_type": "execute_result"
    }
   ],
   "source": [
    "badges.where(col('Date').cast('date').between('2019-01-10', '2019-01-17')).first()"
   ]
  },
  {
   "cell_type": "markdown",
   "metadata": {},
   "source": [
    "## Projekcja danych (`SELECT`)"
   ]
  },
  {
   "cell_type": "code",
   "execution_count": 37,
   "metadata": {},
   "outputs": [
    {
     "name": "stdout",
     "output_type": "stream",
     "text": [
      "+-------+\n",
      "|   Name|\n",
      "+-------+\n",
      "|Teacher|\n",
      "|Teacher|\n",
      "|Teacher|\n",
      "|Teacher|\n",
      "|Teacher|\n",
      "|Teacher|\n",
      "|Teacher|\n",
      "|Teacher|\n",
      "|Teacher|\n",
      "|Teacher|\n",
      "|Teacher|\n",
      "|Teacher|\n",
      "|Teacher|\n",
      "|Teacher|\n",
      "|Teacher|\n",
      "|Teacher|\n",
      "|Teacher|\n",
      "|Teacher|\n",
      "|Teacher|\n",
      "|Teacher|\n",
      "+-------+\n",
      "only showing top 20 rows\n",
      "\n"
     ]
    }
   ],
   "source": [
    "badges.select('Name').show()"
   ]
  },
  {
   "cell_type": "code",
   "execution_count": 38,
   "metadata": {},
   "outputs": [
    {
     "name": "stdout",
     "output_type": "stream",
     "text": [
      "+------+-------+\n",
      "|UserId|   Name|\n",
      "+------+-------+\n",
      "|  3718|Teacher|\n",
      "|   994|Teacher|\n",
      "|  3893|Teacher|\n",
      "|  4591|Teacher|\n",
      "|  5196|Teacher|\n",
      "|  2635|Teacher|\n",
      "|  1113|Teacher|\n",
      "|  4182|Teacher|\n",
      "|   164|Teacher|\n",
      "|   652|Teacher|\n",
      "+------+-------+\n",
      "only showing top 10 rows\n",
      "\n"
     ]
    }
   ],
   "source": [
    "columns_to_select = ['UserId', 'Name']\n",
    "badges.select(columns_to_select).show(10)"
   ]
  },
  {
   "cell_type": "markdown",
   "metadata": {},
   "source": [
    "#### pokaż 10 wierszy UserId + Name, gdzie name to nie \"Teacher\"\n",
    "\n",
    "1. `!=`: `col('Name') != \"Teacher\"`\n",
    "2. `~(col('Name') == \"Teacher\")`\n",
    "3. `(col('Name') > \"Teacher\") | (col('Name') < \"Teacher\")`\n",
    "\n",
    "Kolejność\n",
    "\n",
    "1. `select().where()`\n",
    "2. `where().select()`"
   ]
  },
  {
   "cell_type": "code",
   "execution_count": 39,
   "metadata": {},
   "outputs": [
    {
     "name": "stdout",
     "output_type": "stream",
     "text": [
      "== Physical Plan ==\n",
      "*(1) Project [UserId#1, Name#2]\n",
      "+- *(1) Filter (isnotnull(Name#2) && NOT (Name#2 = Teacher))\n",
      "   +- *(1) FileScan parquet [UserId#1,Name#2] Batched: true, Format: Parquet, Location: InMemoryFileIndex[hdfs://namenode:9000/data/stackoverflow/Badges], PartitionFilters: [], PushedFilters: [IsNotNull(Name), Not(EqualTo(Name,Teacher))], ReadSchema: struct<UserId:int,Name:string>\n"
     ]
    }
   ],
   "source": [
    "badges.where(col('Name')!='Teacher').select('UserId', 'Name').explain()"
   ]
  },
  {
   "cell_type": "code",
   "execution_count": 40,
   "metadata": {},
   "outputs": [],
   "source": [
    "df_with_new_columns = badges.withColumn('is_gold', col('Class') == 1) \\\n",
    "    .withColumn('year', year('Date'))"
   ]
  },
  {
   "cell_type": "code",
   "execution_count": 41,
   "metadata": {},
   "outputs": [
    {
     "data": {
      "text/plain": [
       "892514"
      ]
     },
     "execution_count": 41,
     "metadata": {},
     "output_type": "execute_result"
    }
   ],
   "source": [
    "df_with_new_columns.where(col('is_gold')).count()"
   ]
  },
  {
   "cell_type": "code",
   "execution_count": 42,
   "metadata": {},
   "outputs": [
    {
     "data": {
      "text/plain": [
       "Row(Id=82946, UserId=3718, Name='Teacher', Class=3, TagBased=False, is_gold=False, year=2008)"
      ]
     },
     "execution_count": 42,
     "metadata": {},
     "output_type": "execute_result"
    }
   ],
   "source": [
    "df_with_new_columns.drop('Date').first()"
   ]
  },
  {
   "cell_type": "code",
   "execution_count": 43,
   "metadata": {},
   "outputs": [
    {
     "data": {
      "text/plain": [
       "Row(Id=82946, UserId=3718, year=2008, month=9)"
      ]
     },
     "execution_count": 43,
     "metadata": {},
     "output_type": "execute_result"
    }
   ],
   "source": [
    "df_with_new_columns.select('Id', 'UserId', 'year', month('Date').alias('month')).first()"
   ]
  },
  {
   "cell_type": "markdown",
   "metadata": {},
   "source": [
    "## Agregacje"
   ]
  },
  {
   "cell_type": "code",
   "execution_count": 44,
   "metadata": {},
   "outputs": [
    {
     "data": {
      "text/plain": [
       "5567"
      ]
     },
     "execution_count": 44,
     "metadata": {},
     "output_type": "execute_result"
    }
   ],
   "source": [
    "badges.select('Name').distinct().count()"
   ]
  },
  {
   "cell_type": "code",
   "execution_count": 45,
   "metadata": {},
   "outputs": [
    {
     "name": "stdout",
     "output_type": "stream",
     "text": [
      "+--------------------+\n",
      "|                Name|\n",
      "+--------------------+\n",
      "|              bazaar|\n",
      "|              iframe|\n",
      "|             jbutton|\n",
      "|    android-manifest|\n",
      "|           standards|\n",
      "|               input|\n",
      "|     language-lawyer|\n",
      "|           sitecore8|\n",
      "|                rxjs|\n",
      "|                 avx|\n",
      "|hyperledger-composer|\n",
      "|             mailkit|\n",
      "|                xlrd|\n",
      "|           arguments|\n",
      "|                 fog|\n",
      "|    fluent-interface|\n",
      "|        google-earth|\n",
      "|     instruction-set|\n",
      "|       webdriverwait|\n",
      "|      caliburn.micro|\n",
      "+--------------------+\n",
      "only showing top 20 rows\n",
      "\n"
     ]
    }
   ],
   "source": [
    "badges.select('Name').distinct().show()"
   ]
  },
  {
   "cell_type": "code",
   "execution_count": 46,
   "metadata": {},
   "outputs": [
    {
     "data": {
      "text/plain": [
       "91"
      ]
     },
     "execution_count": 46,
     "metadata": {},
     "output_type": "execute_result"
    }
   ],
   "source": [
    "badges.where(~col('TagBased')).select('Name').distinct().count()"
   ]
  },
  {
   "cell_type": "code",
   "execution_count": 47,
   "metadata": {},
   "outputs": [],
   "source": [
    "# znajdź najpopularniejsze badge ogólne"
   ]
  },
  {
   "cell_type": "code",
   "execution_count": 48,
   "metadata": {},
   "outputs": [
    {
     "name": "stdout",
     "output_type": "stream",
     "text": [
      "+-----------------+--------+\n",
      "|             Name|count(1)|\n",
      "+-----------------+--------+\n",
      "|      Commentator|  914556|\n",
      "|       Electorate|   20574|\n",
      "|        Explainer|   63978|\n",
      "|       Civic Duty|   94622|\n",
      "|       Tumbleweed| 1156958|\n",
      "|             Guru|  130077|\n",
      "|    Peer Pressure|  224148|\n",
      "|      Mortarboard|   31565|\n",
      "|          Revival|  388347|\n",
      "|          Student| 2257156|\n",
      "|    Nice Question|  581899|\n",
      "|       Enthusiast|  215938|\n",
      "|    Archaeologist|    2200|\n",
      "|       Benefactor|   43252|\n",
      "|          Sheriff|      43|\n",
      "|          Fanatic|   32558|\n",
      "|          Teacher| 1457324|\n",
      "|Favorite Question|   50756|\n",
      "|        Excavator|  136997|\n",
      "|           Census|  127122|\n",
      "+-----------------+--------+\n",
      "only showing top 20 rows\n",
      "\n"
     ]
    }
   ],
   "source": [
    "badges.where(~col('TagBased')).groupBy('Name').agg(count('*')).show()"
   ]
  },
  {
   "cell_type": "code",
   "execution_count": 49,
   "metadata": {},
   "outputs": [
    {
     "name": "stdout",
     "output_type": "stream",
     "text": [
      "+-----------------+-------+\n",
      "|             Name|  count|\n",
      "+-----------------+-------+\n",
      "|      Commentator| 914556|\n",
      "|       Electorate|  20574|\n",
      "|        Explainer|  63978|\n",
      "|       Civic Duty|  94622|\n",
      "|       Tumbleweed|1156958|\n",
      "|             Guru| 130077|\n",
      "|    Peer Pressure| 224148|\n",
      "|      Mortarboard|  31565|\n",
      "|          Revival| 388347|\n",
      "|          Student|2257156|\n",
      "|    Nice Question| 581899|\n",
      "|       Enthusiast| 215938|\n",
      "|    Archaeologist|   2200|\n",
      "|       Benefactor|  43252|\n",
      "|          Sheriff|     43|\n",
      "|          Fanatic|  32558|\n",
      "|          Teacher|1457324|\n",
      "|Favorite Question|  50756|\n",
      "|        Excavator| 136997|\n",
      "|           Census| 127122|\n",
      "+-----------------+-------+\n",
      "only showing top 20 rows\n",
      "\n"
     ]
    }
   ],
   "source": [
    "badges.where(~col('TagBased')).groupBy('Name').count().show()"
   ]
  },
  {
   "cell_type": "code",
   "execution_count": 50,
   "metadata": {},
   "outputs": [],
   "source": [
    "badges.sort?"
   ]
  },
  {
   "cell_type": "code",
   "execution_count": 51,
   "metadata": {},
   "outputs": [],
   "source": [
    "spark.sparkContext.setJobGroup('aaa', 'bbb') # for nicer descriptions in Spark UI"
   ]
  },
  {
   "cell_type": "code",
   "execution_count": 52,
   "metadata": {},
   "outputs": [
    {
     "name": "stdout",
     "output_type": "stream",
     "text": [
      "+----------------+-------+\n",
      "|            Name|  count|\n",
      "+----------------+-------+\n",
      "|Popular Question|4526111|\n",
      "|          Editor|2297538|\n",
      "|         Student|2257156|\n",
      "|Notable Question|2230290|\n",
      "|        Informed|2179709|\n",
      "|         Scholar|1847021|\n",
      "|        Yearling|1677778|\n",
      "|         Teacher|1457324|\n",
      "|       Supporter|1352041|\n",
      "|     Nice Answer|1200408|\n",
      "|      Tumbleweed|1156958|\n",
      "|  Autobiographer| 953335|\n",
      "|     Commentator| 914556|\n",
      "|       Custodian| 826981|\n",
      "|          Caucus| 664845|\n",
      "| Famous Question| 645355|\n",
      "|   Nice Question| 581899|\n",
      "|     Necromancer| 567598|\n",
      "|     Good Answer| 411794|\n",
      "|         Revival| 388347|\n",
      "+----------------+-------+\n",
      "only showing top 20 rows\n",
      "\n"
     ]
    }
   ],
   "source": [
    "badges.where(~col('TagBased')).groupBy('Name').count().orderBy(desc('count')).show()"
   ]
  },
  {
   "cell_type": "code",
   "execution_count": 53,
   "metadata": {},
   "outputs": [
    {
     "data": {
      "text/plain": [
       "Row(max(Date)=datetime.datetime(2019, 9, 1, 8, 35, 21, 237000))"
      ]
     },
     "execution_count": 53,
     "metadata": {},
     "output_type": "execute_result"
    }
   ],
   "source": [
    "badges.agg(max('Date')).first()"
   ]
  },
  {
   "cell_type": "code",
   "execution_count": 54,
   "metadata": {},
   "outputs": [],
   "source": [
    "# ile było badgy w każdym roku?\n"
   ]
  }
 ],
 "metadata": {
  "kernelspec": {
   "display_name": "Python 3",
   "language": "python",
   "name": "python3"
  },
  "language_info": {
   "codemirror_mode": {
    "name": "ipython",
    "version": 3
   },
   "file_extension": ".py",
   "mimetype": "text/x-python",
   "name": "python",
   "nbconvert_exporter": "python",
   "pygments_lexer": "ipython3",
   "version": "3.7.3"
  }
 },
 "nbformat": 4,
 "nbformat_minor": 2
}
