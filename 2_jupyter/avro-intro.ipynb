{
 "cells": [
  {
   "cell_type": "markdown",
   "metadata": {},
   "source": [
    "## Generating schema classes"
   ]
  },
  {
   "cell_type": "code",
   "execution_count": 6,
   "metadata": {},
   "outputs": [],
   "source": [
    "from avrogen import write_schema_files\n",
    "\n",
    "with open('badges.avsc') as f:\n",
    "    schema_in_json = f.read()\n",
    "    write_schema_files(schema_in_json, 'schemas/', use_logical_types=True)"
   ]
  },
  {
   "cell_type": "markdown",
   "metadata": {},
   "source": [
    "## Writing the data"
   ]
  },
  {
   "cell_type": "code",
   "execution_count": 9,
   "metadata": {},
   "outputs": [],
   "source": [
    "from schemas.io.training.stackoverflow import Badge, BadgeClass\n",
    "from schemas import SpecificDatumReader as BadgeReader, my_schema as badges_schema\n",
    "from avrogen.logical import LogicalDatumWriter\n",
    "from avro import datafile, io\n",
    "from datetime import datetime\n",
    "\n",
    "badge = Badge()\n",
    "badge.Id = 100\n",
    "badge.UserId = 200\n",
    "badge.Name = 'avro'\n",
    "badge.Date = datetime(2019, 9, 25, 10, 10, 10)\n",
    "\n",
    "with open('data.avro', 'wb') as f:\n",
    "    writer = datafile.DataFileWriter(f, LogicalDatumWriter(badges_schema), badges_schema)\n",
    "    writer.append(badge)\n",
    "    writer.close()"
   ]
  },
  {
   "cell_type": "code",
   "execution_count": 10,
   "metadata": {},
   "outputs": [
    {
     "name": "stdout",
     "output_type": "stream",
     "text": [
      "Obj\u0001\u0004\u0014avro.codec\bnull\u0016avro.schema�\b{\"type\": \"record\", \"name\": \"Badge\", \"namespace\": \"io.training.stackoverflow\", \"fields\": [{\"type\": \"int\", \"name\": \"Id\"}, {\"type\": \"int\", \"name\": \"UserId\"}, {\"type\": \"string\", \"name\": \"Name\"}, {\"type\": {\"type\": \"long\", \"logicalType\": \"timestamp-micros\"}, \"name\": \"Date\"}, {\"type\": {\"type\": \"enum\", \"name\": \"BadgeClass\", \"namespace\": \"io.training.stackoverflow\", \"symbols\": [\"GOLD\", \"SILVER\", \"BRONZE\"]}, \"name\": \"Class\"}, {\"see\": \"https://documentation.org/urlurl\", \"type\": [\"null\", \"boolean\"], \"name\": \"TagBased\", \"doc\": \"This field may be null on older data\"}]}\u0000\u0019���'H~TTѝ�����\u0002&�\u0001�\u0003\bavro�������\u0005\u0000\u0000\u0019���'H~TTѝ�����"
     ]
    }
   ],
   "source": [
    "! cat data.avro"
   ]
  },
  {
   "cell_type": "markdown",
   "metadata": {},
   "source": [
    "## Reading avro file"
   ]
  },
  {
   "cell_type": "code",
   "execution_count": 12,
   "metadata": {},
   "outputs": [
    {
     "name": "stdout",
     "output_type": "stream",
     "text": [
      "{'Id': 100, 'UserId': 200, 'Name': 'avro', 'Date': datetime.datetime(2019, 9, 25, 10, 10, 10), 'Class': 'GOLD', 'TagBased': None}\n"
     ]
    }
   ],
   "source": [
    "with open('data.avro', 'rb') as f:\n",
    "    reader = datafile.DataFileReader(f, BadgeReader(badges_schema))\n",
    "    for record in reader:\n",
    "        print(record)\n",
    "    reader.close()"
   ]
  },
  {
   "cell_type": "code",
   "execution_count": null,
   "metadata": {},
   "outputs": [],
   "source": []
  }
 ],
 "metadata": {
  "kernelspec": {
   "display_name": "Python 3",
   "language": "python",
   "name": "python3"
  },
  "language_info": {
   "codemirror_mode": {
    "name": "ipython",
    "version": 3
   },
   "file_extension": ".py",
   "mimetype": "text/x-python",
   "name": "python",
   "nbconvert_exporter": "python",
   "pygments_lexer": "ipython3",
   "version": "3.7.3"
  }
 },
 "nbformat": 4,
 "nbformat_minor": 2
}
