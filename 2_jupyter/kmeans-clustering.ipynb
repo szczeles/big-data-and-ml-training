{
 "cells": [
  {
   "cell_type": "code",
   "execution_count": 8,
   "metadata": {},
   "outputs": [],
   "source": [
    "from pyspark.sql import SparkSession\n",
    "from pyspark.sql.functions import *\n",
    "\n",
    "spark = SparkSession.builder \\\n",
    "    .config('spark.driver.memory', '2g').getOrCreate()"
   ]
  },
  {
   "cell_type": "code",
   "execution_count": 9,
   "metadata": {},
   "outputs": [],
   "source": [
    "posts = spark.read.parquet('file:///sodata/Posts')"
   ]
  },
  {
   "cell_type": "code",
   "execution_count": 12,
   "metadata": {},
   "outputs": [],
   "source": [
    "tags = posts.where(size('Tags') > 1).select('Tags')"
   ]
  },
  {
   "cell_type": "code",
   "execution_count": 19,
   "metadata": {},
   "outputs": [
    {
     "name": "stdout",
     "output_type": "stream",
     "text": [
      "Vocab sample: ['javascript', 'java', 'c#', 'php', 'python', 'android', 'jquery', 'html', 'ios', 'css']\n",
      "Vocab size: 55591\n"
     ]
    }
   ],
   "source": [
    "from pyspark.ml.feature import CountVectorizer\n",
    "\n",
    "cv = CountVectorizer(inputCol=\"Tags\", outputCol=\"features\", binary=True)\n",
    "cv_model = cv.fit(tags)\n",
    "print(\"Vocab sample: {}\".format(cv_model.vocabulary[:10]))\n",
    "print(\"Vocab size: {}\".format(len(cv_model.vocabulary)))"
   ]
  },
  {
   "cell_type": "code",
   "execution_count": 20,
   "metadata": {},
   "outputs": [],
   "source": [
    "transformed = cv_model.transform(tags)"
   ]
  },
  {
   "cell_type": "code",
   "execution_count": 21,
   "metadata": {},
   "outputs": [
    {
     "data": {
      "text/plain": [
       "Row(Tags=['svn', 'svn-externals'], features=SparseVector(55591, {287: 1.0, 10852: 1.0}))"
      ]
     },
     "execution_count": 21,
     "metadata": {},
     "output_type": "execute_result"
    }
   ],
   "source": [
    "transformed.first()"
   ]
  },
  {
   "cell_type": "code",
   "execution_count": 25,
   "metadata": {},
   "outputs": [],
   "source": [
    "from pyspark.ml.clustering import KMeans\n",
    "\n",
    "kmeans = KMeans().setK(50).setSeed(42)\n",
    "km = kmeans.fit(transformed)"
   ]
  },
  {
   "cell_type": "code",
   "execution_count": 26,
   "metadata": {},
   "outputs": [
    {
     "name": "stdout",
     "output_type": "stream",
     "text": [
      " * apache, php, mod-rewrite, linux, tomcat, ubuntu, ssl, xampp, virtualhost, django, nginx, http, apache2, httpd.conf, wordpress\n",
      " * php, node.js, angular, laravel, angularjs, wordpress, .net, git, ruby, swift, xml, regex, scala, json, objective-c\n",
      " * firebase, firebase-realtime-database, android, javascript, firebase-authentication, google-cloud-firestore, java, firebase-cloud-messaging, swift, google-cloud-functions, angular, ios, node.js, firebase-storage, angularjs\n",
      " * pandas, python, dataframe, numpy, python-3.x, matplotlib, csv, python-2.7, datetime, pandas-groupby, group-by, excel, dictionary, scikit-learn, merge\n",
      " * android, android-layout, android-studio, android-intent, sqlite, android-activity, cordova, eclipse, xml, json, android-recyclerview, google-maps, ios, gradle, kotlin\n",
      " * google-app-engine, python, java, google-cloud-datastore, google-cloud-platform, python-2.7, php, google-cloud-endpoints, google-cloud-storage, app-engine-ndb, go, gwt, eclipse, objectify, android\n",
      " * javascript, jquery, html, angularjs, node.js, reactjs, arrays, json, php, regex, angular, typescript, ajax, d3.js, google-chrome\n",
      " * html, css, javascript, jquery, php, css3, twitter-bootstrap, html5, forms, wordpress, image, angularjs, flexbox, html-table, angular\n",
      " * sql, sql-server, oracle, tsql, sql-server-2008, database, php, stored-procedures, ms-access, sql-server-2005, sql-server-2012, join, ssis, sql-server-2008-r2, plsql\n",
      " * java, android, swing, eclipse, arrays, hibernate, multithreading, maven, xml, json, jsp, arraylist, mysql, servlets, javafx\n",
      " * geolocation, android, javascript, google-maps, gps, location, php, cordova, ios, java, google-maps-api-3, html5, geocoding, geospatial, latitude-longitude\n",
      " * iphone, ios, objective-c, xcode, ipad, uitableview, swift, ios4, core-data, ios5, uiview, uiviewcontroller, uiscrollview, ios7, cocos2d-iphone\n",
      " * jquery, html, php, css, jquery-ui, json, asp.net-mvc, asp.net, twitter-bootstrap, jquery-plugins, forms, jquery-mobile, wordpress, html5, jquery-selectors\n",
      " * wpf, c#, xaml, mvvm, .net, datagrid, data-binding, binding, wpf-controls, combobox, listbox, user-controls, listview, vb.net, silverlight\n",
      " * winapi, c++, windows, c, visual-c++, mfc, delphi, multithreading, c#, .net, dll, gdi, com, visual-studio, windows-7\n",
      " * c++, c++11, qt, c, templates, boost, arrays, pointers, vector, opencv, windows, multithreading, visual-c++, stl, opengl\n",
      " * arrays, php, multidimensional-array, json, mysql, ruby, sorting, swift, foreach, loops, algorithm, object, perl, javascript, mongodb\n",
      " * python, python-2.7, numpy, matplotlib, flask, regex, tkinter, dictionary, arrays, json, csv, string, opencv, beautifulsoup, scipy\n",
      " * list, python, dictionary, python-3.x, string, python-2.7, tuples, sorting, arrays, haskell, loops, prolog, for-loop, list-comprehension, function\n",
      " * c, linux, pointers, arrays, gcc, struct, sockets, malloc, function, multithreading, file, segmentation-fault, linked-list, c++, unix\n",
      " * spring, java, spring-mvc, spring-boot, hibernate, spring-security, jpa, maven, rest, spring-data-jpa, jsp, spring-data, tomcat, json, spring-batch\n",
      " * mariadb, mysql, sql, php, database, galera, docker, phpmyadmin, innodb, java, python, laravel, stored-procedures, node.js, pdo\n",
      " * r, ggplot2, dataframe, dplyr, shiny, plot, data.table, matrix, loops, function, for-loop, list, rstudio, regex, r-markdown\n",
      " * cocoa-touch, objective-c, ios, iphone, uitableview, xcode, cocoa, uikit, ipad, uiview, ios4, core-data, uiviewcontroller, uiscrollview, uinavigationcontroller\n",
      " * jenkins, jenkins-pipeline, jenkins-plugins, maven, git, java, groovy, continuous-integration, docker, hudson, sonarqube, github, svn, build, ant\n",
      " * vba, excel, excel-vba, excel-formula, excel-2010, arrays, loops, userform, excel-2007, outlook, ms-access, sql, range, ms-word, macros\n",
      " * python-3.x, python, python-2.7, tkinter, pandas, numpy, dictionary, matplotlib, regex, beautifulsoup, web-scraping, csv, django, json, pyqt5\n",
      " * postgresql, sql, database, ruby-on-rails, php, plpgsql, mysql, django, node.js, json, heroku, postgis, activerecord, psql, docker\n",
      " * css, javascript, css3, twitter-bootstrap, wordpress, html5, sass, php, jquery, google-chrome, reactjs, css-selectors, internet-explorer, flexbox, responsive-design\n",
      " * azure, c#, azure-web-sites, azure-functions, azure-active-directory, azure-storage, azure-sql-database, powershell, azure-storage-blobs, .net, node.js, asp.net-mvc, asp.net, sql-server, azure-cosmosdb\n",
      " * facebook, facebook-graph-api, php, javascript, ios, facebook-javascript-sdk, facebook-like, facebook-php-sdk, android, api, facebook-fql, facebook-opengraph, oauth, sdk, opengraph\n",
      " * ios, swift, objective-c, xcode, uitableview, core-data, swift3, uiview, uicollectionview, uiviewcontroller, ipad, autolayout, json, uiscrollview, sprite-kit\n",
      " * linux, bash, shell, unix, awk, sed, ubuntu, grep, php, regex, macos, linux-kernel, scripting, ssh, terminal\n",
      " * .htaccess, mod-rewrite, apache, php, redirect, url-rewriting, wordpress, regex, url, codeigniter, rewrite, html, https, subdomain, url-redirection\n",
      " * c#, .net, winforms, linq, asp.net-mvc, entity-framework, visual-studio, xml, unity3d, sql-server, wcf, multithreading, sql, json, regex\n",
      " * string, java, regex, arrays, c, php, javascript, split, replace, android, ruby, c#, python, char, algorithm\n",
      " * html5, javascript, jquery, html, canvas, css3, php, css, angularjs, video, html5-canvas, google-chrome, html5-video, audio, twitter-bootstrap\n",
      " * single-sign-on, saml, java, authentication, saml-2.0, php, cas, asp.net, adfs, active-directory, oauth-2.0, spring-security, kerberos, oauth, c#\n",
      " * jquery, ajax, javascript, php, html, json, mysql, forms, wordpress, codeigniter, asp.net-mvc, asp.net, laravel, post, ruby-on-rails\n",
      " * cryptography, encryption, java, aes, rsa, c#, security, php, hash, openssl, bouncycastle, node.js, .net, python, javascript\n",
      " * selenium, selenium-webdriver, java, webdriver, python, xpath, selenium-chromedriver, c#, javascript, firefox, testng, automation, testing, google-chrome, automated-tests\n",
      " * mysql, php, sql, database, html, join, pdo, mysqli, laravel, select, phpmyadmin, codeigniter, wordpress, database-design, json\n",
      " * animation, ios, javascript, swift, objective-c, wpf, uiview, css3, iphone, svg, html, canvas, unity3d, angular, uiimageview\n",
      " * matlab, matrix, image-processing, plot, arrays, matlab-figure, image, python, simulink, octave, vector, function, for-loop, c++, user-interface\n",
      " * neo4j, cypher, graph-databases, spring-data-neo4j, graph, database, py2neo, spring-data-neo4j-4, java, csv, neo4j-ogm, neo4jclient, neo4j-apoc, nosql, node.js\n",
      " * tensorflow, python, keras, deep-learning, machine-learning, neural-network, python-3.x, conv-neural-network, lstm, numpy, tensorboard, object-detection, tensorflow-datasets, gpu, recurrent-neural-network\n",
      " * asp.net, c#, asp.net-mvc, .net, vb.net, gridview, javascript, iis, sql-server, webforms, sql, html, entity-framework, asp.net-mvc-4, jquery\n",
      " * android, android-fragments, listview, java, android-layout, android-listview, android-viewpager, android-activity, android-studio, xml, android-recyclerview, fragment, android-arrayadapter, sqlite, android-intent\n",
      " * ruby-on-rails, ruby, ruby-on-rails-3, ruby-on-rails-4, activerecord, devise, rspec, heroku, ruby-on-rails-5, mysql, rubygems, forms, ruby-on-rails-3.2, json, routes\n",
      " * django, python, django-models, django-rest-framework, django-forms, django-views, django-templates, django-admin, python-3.x, forms, django-queryset, html, python-2.7, mysql, celery\n"
     ]
    }
   ],
   "source": [
    "for center in km.clusterCenters():\n",
    "    print(\" * %s\" % ', '.join([cv_model.vocabulary[index] for index in center.argsort()[::-1][:15]]))"
   ]
  },
  {
   "cell_type": "code",
   "execution_count": null,
   "metadata": {},
   "outputs": [],
   "source": []
  }
 ],
 "metadata": {
  "kernelspec": {
   "display_name": "Python 3",
   "language": "python",
   "name": "python3"
  },
  "language_info": {
   "codemirror_mode": {
    "name": "ipython",
    "version": 3
   },
   "file_extension": ".py",
   "mimetype": "text/x-python",
   "name": "python",
   "nbconvert_exporter": "python",
   "pygments_lexer": "ipython3",
   "version": "3.7.3"
  }
 },
 "nbformat": 4,
 "nbformat_minor": 2
}
